{
  "nbformat": 4,
  "nbformat_minor": 0,
  "metadata": {
    "colab": {
      "name": "Alura_BootCamp_Modulo2.ipynb",
      "provenance": [],
      "collapsed_sections": [
        "7Zoz3zMoX0yw",
        "Ie4NVj7cYYDr",
        "SuoZRu6nsivb",
        "0_TdfGggwHrW",
        "NNq9BQP6xkJc",
        "KfSlxLhJfH8i",
        "I41Mnby_eSL-",
        "RM069HcDoMFI",
        "s4hSzXOryr7T",
        "Jaf1dxu7y0xV",
        "sjP7ZFj21qaj",
        "jRPvN8Bm1-Kz",
        "ItVvMiuK32MF",
        "_zqXyt_H-CM8",
        "fjiaeb_XqHoD",
        "L0xobM_ftk-C",
        "ASU4HOkHt3WL",
        "tGlD9yVVurHb",
        "hoFXYi6cu9Dc",
        "8YVgXC-Fu8zs",
        "u6BQ_qcpv3lZ",
        "QNjAKsT47YN-",
        "wfgp5gFr7QE1",
        "xppH-qck7gSR",
        "br9THGrdInEi",
        "FEx7h0KeLmfX",
        "CQFt-0Vh2svW",
        "vrww3IeH677L",
        "VZ9XQL-y7DUe",
        "NytReUK58TS-",
        "8PibmbId8acv"
      ],
      "toc_visible": true,
      "authorship_tag": "ABX9TyOJgHZ8uSwu/HmTUAPC6UQc",
      "include_colab_link": true
    },
    "kernelspec": {
      "name": "python3",
      "display_name": "Python 3"
    },
    "language_info": {
      "name": "python"
    }
  },
  "cells": [
    {
      "cell_type": "markdown",
      "metadata": {
        "id": "view-in-github",
        "colab_type": "text"
      },
      "source": [
        "<a href=\"https://colab.research.google.com/github/cfernando89/Bootcamp_Data_Science/blob/main/Alura_BootCamp_Modulo2.ipynb\" target=\"_parent\"><img src=\"https://colab.research.google.com/assets/colab-badge.svg\" alt=\"Open In Colab\"/></a>"
      ]
    },
    {
      "cell_type": "markdown",
      "metadata": {
        "id": "ge4LNacE5PSx"
      },
      "source": [
        "#Módulo 2"
      ]
    },
    {
      "cell_type": "markdown",
      "metadata": {
        "id": "QNjAKsT47YN-"
      },
      "source": [
        "## Aula 1"
      ]
    },
    {
      "cell_type": "code",
      "metadata": {
        "id": "jGunAukB5Qsz"
      },
      "source": [
        "import pandas as pd"
      ],
      "execution_count": null,
      "outputs": []
    },
    {
      "cell_type": "code",
      "metadata": {
        "colab": {
          "base_uri": "https://localhost:8080/",
          "height": 355
        },
        "id": "OTqlUHKk5TD6",
        "outputId": "f831d979-f4fe-4bb1-f31c-5ae88f6b00b3"
      },
      "source": [
        "file_path = 'https://raw.githubusercontent.com/alura-cursos/agendamento-hospitalar/main/dados/A160324189_28_143_208.csv'\n",
        "dados_raw = pd.read_csv(file_path, encoding='latin1', sep=';',skiprows=3, skipfooter=12, thousands='.',  decimal=',')\n",
        "dados_raw.head()"
      ],
      "execution_count": null,
      "outputs": [
        {
          "output_type": "stream",
          "text": [
            "/usr/local/lib/python3.7/dist-packages/ipykernel_launcher.py:2: ParserWarning: Falling back to the 'python' engine because the 'c' engine does not support skipfooter; you can avoid this warning by specifying engine='python'.\n",
            "  \n"
          ],
          "name": "stderr"
        },
        {
          "output_type": "execute_result",
          "data": {
            "text/html": [
              "<div>\n",
              "<style scoped>\n",
              "    .dataframe tbody tr th:only-of-type {\n",
              "        vertical-align: middle;\n",
              "    }\n",
              "\n",
              "    .dataframe tbody tr th {\n",
              "        vertical-align: top;\n",
              "    }\n",
              "\n",
              "    .dataframe thead th {\n",
              "        text-align: right;\n",
              "    }\n",
              "</style>\n",
              "<table border=\"1\" class=\"dataframe\">\n",
              "  <thead>\n",
              "    <tr style=\"text-align: right;\">\n",
              "      <th></th>\n",
              "      <th>Unidade da Federação</th>\n",
              "      <th>1992/Mar</th>\n",
              "      <th>1992/Abr</th>\n",
              "      <th>1993/Mai</th>\n",
              "      <th>1993/Dez</th>\n",
              "      <th>1994/Jan</th>\n",
              "      <th>1994/Fev</th>\n",
              "      <th>1994/Mai</th>\n",
              "      <th>1994/Ago</th>\n",
              "      <th>1994/Nov</th>\n",
              "      <th>1995/Jan</th>\n",
              "      <th>1995/Mar</th>\n",
              "      <th>1995/Jun</th>\n",
              "      <th>1995/Ago</th>\n",
              "      <th>1995/Dez</th>\n",
              "      <th>1996/Fev</th>\n",
              "      <th>1996/Mar</th>\n",
              "      <th>1996/Ago</th>\n",
              "      <th>1996/Dez</th>\n",
              "      <th>1997/Fev</th>\n",
              "      <th>1997/Nov</th>\n",
              "      <th>1998/Fev</th>\n",
              "      <th>1998/Mar</th>\n",
              "      <th>1998/Jul</th>\n",
              "      <th>1998/Ago</th>\n",
              "      <th>1998/Set</th>\n",
              "      <th>1998/Out</th>\n",
              "      <th>1998/Dez</th>\n",
              "      <th>1999/Fev</th>\n",
              "      <th>1999/Mar</th>\n",
              "      <th>1999/Mai</th>\n",
              "      <th>1999/Jul</th>\n",
              "      <th>1999/Ago</th>\n",
              "      <th>1999/Set</th>\n",
              "      <th>1999/Out</th>\n",
              "      <th>1999/Nov</th>\n",
              "      <th>1999/Dez</th>\n",
              "      <th>2000/Jan</th>\n",
              "      <th>2000/Fev</th>\n",
              "      <th>2000/Mar</th>\n",
              "      <th>...</th>\n",
              "      <th>2017/Jun</th>\n",
              "      <th>2017/Jul</th>\n",
              "      <th>2017/Ago</th>\n",
              "      <th>2017/Set</th>\n",
              "      <th>2017/Out</th>\n",
              "      <th>2017/Nov</th>\n",
              "      <th>2017/Dez</th>\n",
              "      <th>2018/Jan</th>\n",
              "      <th>2018/Fev</th>\n",
              "      <th>2018/Mar</th>\n",
              "      <th>2018/Abr</th>\n",
              "      <th>2018/Mai</th>\n",
              "      <th>2018/Jun</th>\n",
              "      <th>2018/Jul</th>\n",
              "      <th>2018/Ago</th>\n",
              "      <th>2018/Set</th>\n",
              "      <th>2018/Out</th>\n",
              "      <th>2018/Nov</th>\n",
              "      <th>2018/Dez</th>\n",
              "      <th>2019/Jan</th>\n",
              "      <th>2019/Fev</th>\n",
              "      <th>2019/Mar</th>\n",
              "      <th>2019/Abr</th>\n",
              "      <th>2019/Mai</th>\n",
              "      <th>2019/Jun</th>\n",
              "      <th>2019/Jul</th>\n",
              "      <th>2019/Ago</th>\n",
              "      <th>2019/Set</th>\n",
              "      <th>2019/Out</th>\n",
              "      <th>2019/Nov</th>\n",
              "      <th>2019/Dez</th>\n",
              "      <th>2020/Jan</th>\n",
              "      <th>2020/Fev</th>\n",
              "      <th>2020/Mar</th>\n",
              "      <th>2020/Abr</th>\n",
              "      <th>2020/Mai</th>\n",
              "      <th>2020/Jun</th>\n",
              "      <th>2020/Jul</th>\n",
              "      <th>2020/Ago</th>\n",
              "      <th>Total</th>\n",
              "    </tr>\n",
              "  </thead>\n",
              "  <tbody>\n",
              "    <tr>\n",
              "      <th>0</th>\n",
              "      <td>11 Rondônia</td>\n",
              "      <td>-</td>\n",
              "      <td>-</td>\n",
              "      <td>-</td>\n",
              "      <td>-</td>\n",
              "      <td>-</td>\n",
              "      <td>-</td>\n",
              "      <td>-</td>\n",
              "      <td>-</td>\n",
              "      <td>-</td>\n",
              "      <td>-</td>\n",
              "      <td>-</td>\n",
              "      <td>-</td>\n",
              "      <td>-</td>\n",
              "      <td>-</td>\n",
              "      <td>-</td>\n",
              "      <td>-</td>\n",
              "      <td>-</td>\n",
              "      <td>-</td>\n",
              "      <td>-</td>\n",
              "      <td>-</td>\n",
              "      <td>-</td>\n",
              "      <td>-</td>\n",
              "      <td>-</td>\n",
              "      <td>-</td>\n",
              "      <td>-</td>\n",
              "      <td>-</td>\n",
              "      <td>-</td>\n",
              "      <td>-</td>\n",
              "      <td>-</td>\n",
              "      <td>-</td>\n",
              "      <td>-</td>\n",
              "      <td>-</td>\n",
              "      <td>-</td>\n",
              "      <td>-</td>\n",
              "      <td>-</td>\n",
              "      <td>-</td>\n",
              "      <td>-</td>\n",
              "      <td>-</td>\n",
              "      <td>-</td>\n",
              "      <td>...</td>\n",
              "      <td>8041248.80</td>\n",
              "      <td>8199032.67</td>\n",
              "      <td>8363386.07</td>\n",
              "      <td>7889819.50</td>\n",
              "      <td>8603943.85</td>\n",
              "      <td>8048398.25</td>\n",
              "      <td>8159737.49</td>\n",
              "      <td>8457455.71</td>\n",
              "      <td>7766983.20</td>\n",
              "      <td>8858845.57</td>\n",
              "      <td>8407076.44</td>\n",
              "      <td>9492938.92</td>\n",
              "      <td>8206195.92</td>\n",
              "      <td>9011612.58</td>\n",
              "      <td>9124967.84</td>\n",
              "      <td>8406732.72</td>\n",
              "      <td>8411360.02</td>\n",
              "      <td>8651081.66</td>\n",
              "      <td>8193425.99</td>\n",
              "      <td>8388269.45</td>\n",
              "      <td>8645315.78</td>\n",
              "      <td>9050329.13</td>\n",
              "      <td>9211262.51</td>\n",
              "      <td>9490545.02</td>\n",
              "      <td>8600886.20</td>\n",
              "      <td>8919190.86</td>\n",
              "      <td>8909111.89</td>\n",
              "      <td>8409386.09</td>\n",
              "      <td>8924348.41</td>\n",
              "      <td>8948605.66</td>\n",
              "      <td>8660753.05</td>\n",
              "      <td>8326416.32</td>\n",
              "      <td>8413784.42</td>\n",
              "      <td>7174312.31</td>\n",
              "      <td>7423678.64</td>\n",
              "      <td>8581195.13</td>\n",
              "      <td>9193593.76</td>\n",
              "      <td>7407388.24</td>\n",
              "      <td>3556381.57</td>\n",
              "      <td>929129659.72</td>\n",
              "    </tr>\n",
              "    <tr>\n",
              "      <th>1</th>\n",
              "      <td>12 Acre</td>\n",
              "      <td>-</td>\n",
              "      <td>-</td>\n",
              "      <td>-</td>\n",
              "      <td>-</td>\n",
              "      <td>-</td>\n",
              "      <td>-</td>\n",
              "      <td>-</td>\n",
              "      <td>-</td>\n",
              "      <td>-</td>\n",
              "      <td>-</td>\n",
              "      <td>-</td>\n",
              "      <td>-</td>\n",
              "      <td>-</td>\n",
              "      <td>-</td>\n",
              "      <td>-</td>\n",
              "      <td>-</td>\n",
              "      <td>-</td>\n",
              "      <td>-</td>\n",
              "      <td>-</td>\n",
              "      <td>-</td>\n",
              "      <td>-</td>\n",
              "      <td>-</td>\n",
              "      <td>-</td>\n",
              "      <td>-</td>\n",
              "      <td>-</td>\n",
              "      <td>-</td>\n",
              "      <td>-</td>\n",
              "      <td>-</td>\n",
              "      <td>-</td>\n",
              "      <td>-</td>\n",
              "      <td>-</td>\n",
              "      <td>-</td>\n",
              "      <td>-</td>\n",
              "      <td>-</td>\n",
              "      <td>-</td>\n",
              "      <td>-</td>\n",
              "      <td>-</td>\n",
              "      <td>-</td>\n",
              "      <td>-</td>\n",
              "      <td>...</td>\n",
              "      <td>3355223.35</td>\n",
              "      <td>3562691.54</td>\n",
              "      <td>3375296.64</td>\n",
              "      <td>3341497.58</td>\n",
              "      <td>3358378.05</td>\n",
              "      <td>3145385.44</td>\n",
              "      <td>2638773.92</td>\n",
              "      <td>2968168.75</td>\n",
              "      <td>2769797.39</td>\n",
              "      <td>3057631.96</td>\n",
              "      <td>2874965.31</td>\n",
              "      <td>3175575.17</td>\n",
              "      <td>3060903.21</td>\n",
              "      <td>3253011.61</td>\n",
              "      <td>3040645.05</td>\n",
              "      <td>2926179.27</td>\n",
              "      <td>3126120.64</td>\n",
              "      <td>2473454.85</td>\n",
              "      <td>2277493.49</td>\n",
              "      <td>2594347.32</td>\n",
              "      <td>2234388.36</td>\n",
              "      <td>2473008.49</td>\n",
              "      <td>2979764.77</td>\n",
              "      <td>3070533.95</td>\n",
              "      <td>3249052.69</td>\n",
              "      <td>3567538.64</td>\n",
              "      <td>2981072.98</td>\n",
              "      <td>2998860.31</td>\n",
              "      <td>3293378.97</td>\n",
              "      <td>3174249.43</td>\n",
              "      <td>2959569.09</td>\n",
              "      <td>3261123.88</td>\n",
              "      <td>2981264.22</td>\n",
              "      <td>2859102.06</td>\n",
              "      <td>2472063.08</td>\n",
              "      <td>2383895.48</td>\n",
              "      <td>2199920.70</td>\n",
              "      <td>1163813.08</td>\n",
              "      <td>-</td>\n",
              "      <td>420668039.63</td>\n",
              "    </tr>\n",
              "    <tr>\n",
              "      <th>2</th>\n",
              "      <td>13 Amazonas</td>\n",
              "      <td>-</td>\n",
              "      <td>-</td>\n",
              "      <td>-</td>\n",
              "      <td>-</td>\n",
              "      <td>-</td>\n",
              "      <td>-</td>\n",
              "      <td>-</td>\n",
              "      <td>-</td>\n",
              "      <td>-</td>\n",
              "      <td>-</td>\n",
              "      <td>-</td>\n",
              "      <td>-</td>\n",
              "      <td>-</td>\n",
              "      <td>-</td>\n",
              "      <td>-</td>\n",
              "      <td>-</td>\n",
              "      <td>-</td>\n",
              "      <td>-</td>\n",
              "      <td>-</td>\n",
              "      <td>-</td>\n",
              "      <td>-</td>\n",
              "      <td>-</td>\n",
              "      <td>-</td>\n",
              "      <td>-</td>\n",
              "      <td>-</td>\n",
              "      <td>-</td>\n",
              "      <td>-</td>\n",
              "      <td>-</td>\n",
              "      <td>-</td>\n",
              "      <td>-</td>\n",
              "      <td>-</td>\n",
              "      <td>-</td>\n",
              "      <td>-</td>\n",
              "      <td>-</td>\n",
              "      <td>-</td>\n",
              "      <td>-</td>\n",
              "      <td>-</td>\n",
              "      <td>-</td>\n",
              "      <td>-</td>\n",
              "      <td>...</td>\n",
              "      <td>13718828.46</td>\n",
              "      <td>14396210.86</td>\n",
              "      <td>13745304.22</td>\n",
              "      <td>13979792.94</td>\n",
              "      <td>13895515.90</td>\n",
              "      <td>13518116.80</td>\n",
              "      <td>13635186.02</td>\n",
              "      <td>14549450.86</td>\n",
              "      <td>12753555.36</td>\n",
              "      <td>14749409.47</td>\n",
              "      <td>14577930.81</td>\n",
              "      <td>15381061.96</td>\n",
              "      <td>14653650.77</td>\n",
              "      <td>15544595.79</td>\n",
              "      <td>16374961.41</td>\n",
              "      <td>15343340.93</td>\n",
              "      <td>16249963.61</td>\n",
              "      <td>14255408.82</td>\n",
              "      <td>14274053.94</td>\n",
              "      <td>15358914.00</td>\n",
              "      <td>14100074.56</td>\n",
              "      <td>16103971.89</td>\n",
              "      <td>16154491.82</td>\n",
              "      <td>16529976.06</td>\n",
              "      <td>15509984.83</td>\n",
              "      <td>16642220.71</td>\n",
              "      <td>16493719.52</td>\n",
              "      <td>15346323.27</td>\n",
              "      <td>16282436.68</td>\n",
              "      <td>14781332.42</td>\n",
              "      <td>14923380.22</td>\n",
              "      <td>15939561.23</td>\n",
              "      <td>15138110.70</td>\n",
              "      <td>14773739.41</td>\n",
              "      <td>16330913.81</td>\n",
              "      <td>19441150.53</td>\n",
              "      <td>17509334.66</td>\n",
              "      <td>13358514.02</td>\n",
              "      <td>4726485.73</td>\n",
              "      <td>1771654871.23</td>\n",
              "    </tr>\n",
              "    <tr>\n",
              "      <th>3</th>\n",
              "      <td>14 Roraima</td>\n",
              "      <td>-</td>\n",
              "      <td>-</td>\n",
              "      <td>-</td>\n",
              "      <td>-</td>\n",
              "      <td>-</td>\n",
              "      <td>-</td>\n",
              "      <td>-</td>\n",
              "      <td>-</td>\n",
              "      <td>-</td>\n",
              "      <td>-</td>\n",
              "      <td>-</td>\n",
              "      <td>-</td>\n",
              "      <td>-</td>\n",
              "      <td>-</td>\n",
              "      <td>-</td>\n",
              "      <td>-</td>\n",
              "      <td>-</td>\n",
              "      <td>-</td>\n",
              "      <td>-</td>\n",
              "      <td>-</td>\n",
              "      <td>-</td>\n",
              "      <td>-</td>\n",
              "      <td>-</td>\n",
              "      <td>-</td>\n",
              "      <td>-</td>\n",
              "      <td>-</td>\n",
              "      <td>-</td>\n",
              "      <td>-</td>\n",
              "      <td>-</td>\n",
              "      <td>-</td>\n",
              "      <td>-</td>\n",
              "      <td>-</td>\n",
              "      <td>-</td>\n",
              "      <td>-</td>\n",
              "      <td>-</td>\n",
              "      <td>-</td>\n",
              "      <td>-</td>\n",
              "      <td>-</td>\n",
              "      <td>-</td>\n",
              "      <td>...</td>\n",
              "      <td>2699213.85</td>\n",
              "      <td>2682746.28</td>\n",
              "      <td>2891100.20</td>\n",
              "      <td>2737677.78</td>\n",
              "      <td>2693726.29</td>\n",
              "      <td>2671451.53</td>\n",
              "      <td>2688315.70</td>\n",
              "      <td>2740952.07</td>\n",
              "      <td>2478349.44</td>\n",
              "      <td>2674958.94</td>\n",
              "      <td>2721261.19</td>\n",
              "      <td>2844811.66</td>\n",
              "      <td>2967161.35</td>\n",
              "      <td>2841587.97</td>\n",
              "      <td>3328230.63</td>\n",
              "      <td>2878691.04</td>\n",
              "      <td>2964324.32</td>\n",
              "      <td>2524712.40</td>\n",
              "      <td>2462451.64</td>\n",
              "      <td>2662240.18</td>\n",
              "      <td>2499996.16</td>\n",
              "      <td>2846135.56</td>\n",
              "      <td>2789823.29</td>\n",
              "      <td>2839389.53</td>\n",
              "      <td>2647540.20</td>\n",
              "      <td>2865777.71</td>\n",
              "      <td>3181321.82</td>\n",
              "      <td>3070436.96</td>\n",
              "      <td>3162342.44</td>\n",
              "      <td>3121104.71</td>\n",
              "      <td>2889969.87</td>\n",
              "      <td>3084561.08</td>\n",
              "      <td>2967159.04</td>\n",
              "      <td>2813954.05</td>\n",
              "      <td>2304961.42</td>\n",
              "      <td>2910776.44</td>\n",
              "      <td>3216466.51</td>\n",
              "      <td>2739498.41</td>\n",
              "      <td>1524478.04</td>\n",
              "      <td>305010883.18</td>\n",
              "    </tr>\n",
              "    <tr>\n",
              "      <th>4</th>\n",
              "      <td>15 Pará</td>\n",
              "      <td>-</td>\n",
              "      <td>-</td>\n",
              "      <td>-</td>\n",
              "      <td>-</td>\n",
              "      <td>-</td>\n",
              "      <td>-</td>\n",
              "      <td>-</td>\n",
              "      <td>-</td>\n",
              "      <td>-</td>\n",
              "      <td>-</td>\n",
              "      <td>-</td>\n",
              "      <td>-</td>\n",
              "      <td>-</td>\n",
              "      <td>-</td>\n",
              "      <td>-</td>\n",
              "      <td>-</td>\n",
              "      <td>-</td>\n",
              "      <td>-</td>\n",
              "      <td>-</td>\n",
              "      <td>-</td>\n",
              "      <td>-</td>\n",
              "      <td>-</td>\n",
              "      <td>-</td>\n",
              "      <td>-</td>\n",
              "      <td>-</td>\n",
              "      <td>-</td>\n",
              "      <td>-</td>\n",
              "      <td>-</td>\n",
              "      <td>-</td>\n",
              "      <td>-</td>\n",
              "      <td>-</td>\n",
              "      <td>-</td>\n",
              "      <td>-</td>\n",
              "      <td>-</td>\n",
              "      <td>-</td>\n",
              "      <td>-</td>\n",
              "      <td>-</td>\n",
              "      <td>-</td>\n",
              "      <td>-</td>\n",
              "      <td>...</td>\n",
              "      <td>31808597.47</td>\n",
              "      <td>32133134.42</td>\n",
              "      <td>33770556.65</td>\n",
              "      <td>32979925.38</td>\n",
              "      <td>33665042.35</td>\n",
              "      <td>33475545.29</td>\n",
              "      <td>32067934.67</td>\n",
              "      <td>33615836.09</td>\n",
              "      <td>30623491.62</td>\n",
              "      <td>34121931.00</td>\n",
              "      <td>35039954.20</td>\n",
              "      <td>35424611.06</td>\n",
              "      <td>34160283.18</td>\n",
              "      <td>34484949.49</td>\n",
              "      <td>35618364.04</td>\n",
              "      <td>34380916.90</td>\n",
              "      <td>38441090.50</td>\n",
              "      <td>33583538.08</td>\n",
              "      <td>32789354.87</td>\n",
              "      <td>34513534.80</td>\n",
              "      <td>31885919.67</td>\n",
              "      <td>33236155.79</td>\n",
              "      <td>31008924.95</td>\n",
              "      <td>31064106.50</td>\n",
              "      <td>28543179.30</td>\n",
              "      <td>36713929.36</td>\n",
              "      <td>36462011.47</td>\n",
              "      <td>36790758.67</td>\n",
              "      <td>36974859.69</td>\n",
              "      <td>35555518.00</td>\n",
              "      <td>35222625.80</td>\n",
              "      <td>37009819.17</td>\n",
              "      <td>34635702.52</td>\n",
              "      <td>34749098.46</td>\n",
              "      <td>28714969.96</td>\n",
              "      <td>41248502.78</td>\n",
              "      <td>35396030.78</td>\n",
              "      <td>27618727.51</td>\n",
              "      <td>11559714.54</td>\n",
              "      <td>4437115730.71</td>\n",
              "    </tr>\n",
              "  </tbody>\n",
              "</table>\n",
              "<p>5 rows × 280 columns</p>\n",
              "</div>"
            ],
            "text/plain": [
              "  Unidade da Federação 1992/Mar 1992/Abr  ...    2020/Jul     2020/Ago         Total\n",
              "0          11 Rondônia        -        -  ...  7407388.24   3556381.57  929129659.72\n",
              "1              12 Acre        -        -  ...  1163813.08            -  420668039.63\n",
              "2          13 Amazonas        -        -  ... 13358514.02   4726485.73 1771654871.23\n",
              "3           14 Roraima        -        -  ...  2739498.41   1524478.04  305010883.18\n",
              "4              15 Pará        -        -  ... 27618727.51  11559714.54 4437115730.71\n",
              "\n",
              "[5 rows x 280 columns]"
            ]
          },
          "metadata": {
            "tags": []
          },
          "execution_count": 68
        }
      ]
    },
    {
      "cell_type": "code",
      "metadata": {
        "colab": {
          "base_uri": "https://localhost:8080/",
          "height": 238
        },
        "id": "MyAfZ_Ba5Wbh",
        "outputId": "7291a546-1f08-4854-e534-1962f053a366"
      },
      "source": [
        "file_populacao = 'https://github.com/alura-cursos/agendamento-hospitalar/blob/main/dados/estimativa_dou_2020.xls?raw=true'\n",
        "populacao_ibge_estimativa = pd.read_excel(file_populacao)\n",
        "populacao_ibge_estimativa.head()"
      ],
      "execution_count": null,
      "outputs": [
        {
          "output_type": "execute_result",
          "data": {
            "text/html": [
              "<div>\n",
              "<style scoped>\n",
              "    .dataframe tbody tr th:only-of-type {\n",
              "        vertical-align: middle;\n",
              "    }\n",
              "\n",
              "    .dataframe tbody tr th {\n",
              "        vertical-align: top;\n",
              "    }\n",
              "\n",
              "    .dataframe thead th {\n",
              "        text-align: right;\n",
              "    }\n",
              "</style>\n",
              "<table border=\"1\" class=\"dataframe\">\n",
              "  <thead>\n",
              "    <tr style=\"text-align: right;\">\n",
              "      <th></th>\n",
              "      <th>ESTIMATIVAS DA POPULAÇÃO RESIDENTE NO BRASIL E UNIDADES DA FEDERAÇÃO COM DATA DE REFERÊNCIA EM 1º DE JULHO DE 2020</th>\n",
              "      <th>Unnamed: 1</th>\n",
              "      <th>Unnamed: 2</th>\n",
              "    </tr>\n",
              "  </thead>\n",
              "  <tbody>\n",
              "    <tr>\n",
              "      <th>0</th>\n",
              "      <td>BRASIL E UNIDADES DA FEDERAÇÃO</td>\n",
              "      <td>nan</td>\n",
              "      <td>POPULAÇÃO ESTIMADA</td>\n",
              "    </tr>\n",
              "    <tr>\n",
              "      <th>1</th>\n",
              "      <td>Brasil</td>\n",
              "      <td>nan</td>\n",
              "      <td>211755692</td>\n",
              "    </tr>\n",
              "    <tr>\n",
              "      <th>2</th>\n",
              "      <td>Região Norte</td>\n",
              "      <td>nan</td>\n",
              "      <td>18672591</td>\n",
              "    </tr>\n",
              "    <tr>\n",
              "      <th>3</th>\n",
              "      <td>Rondônia</td>\n",
              "      <td>nan</td>\n",
              "      <td>1796460</td>\n",
              "    </tr>\n",
              "    <tr>\n",
              "      <th>4</th>\n",
              "      <td>Acre</td>\n",
              "      <td>nan</td>\n",
              "      <td>894470</td>\n",
              "    </tr>\n",
              "  </tbody>\n",
              "</table>\n",
              "</div>"
            ],
            "text/plain": [
              "  ESTIMATIVAS DA POPULAÇÃO RESIDENTE NO BRASIL E UNIDADES DA FEDERAÇÃO COM DATA DE REFERÊNCIA EM 1º DE JULHO DE 2020  ...          Unnamed: 2\n",
              "0                     BRASIL E UNIDADES DA FEDERAÇÃO                                                                  ...  POPULAÇÃO ESTIMADA\n",
              "1                                             Brasil                                                                  ...           211755692\n",
              "2                                       Região Norte                                                                  ...            18672591\n",
              "3                                           Rondônia                                                                  ...             1796460\n",
              "4                                               Acre                                                                  ...              894470\n",
              "\n",
              "[5 rows x 3 columns]"
            ]
          },
          "metadata": {
            "tags": []
          },
          "execution_count": 69
        }
      ]
    },
    {
      "cell_type": "code",
      "metadata": {
        "id": "Dz4itEJ55u5J"
      },
      "source": [
        "dados_populacao = \"\"\"Posição\tUnidade federativa\tPopulação\t% da pop. total\tPaís comparável\n",
        "1\t São Paulo\t46 289 333\t21,9%\tFlag of Spain.svg Espanha (46 439 864)\n",
        "2\t Minas Gerais\t21 292 666\t10,1%\t Sri Lanka (20 675 000)\n",
        "3\t Rio de Janeiro\t17 366 189\t8,2%\t Países Baixos (16 922 900)\n",
        "4\tBahia Bahia\t14 930 634\t7,1%\t Chade (14 037 000)\n",
        "5\t Paraná\t11 516 840\t5,4%\t Bolívia (11 410 651)\n",
        "6\t Rio Grande do Sul\t11 422 973\t5,4%\t Bélgica (11 250 659)\n",
        "7\t Pernambuco\t9 616 621\t4,5%\t Bielorrússia (9 485 300)\n",
        "8\t Ceará\t9 187 103\t4,3%\t Emirados Árabes Unidos (9 157 000)\n",
        "9\tPará Pará\t8 690 745\t4,1%\t Áustria (8 602 112)\n",
        "10\t Santa Catarina\t7 252 502\t3,4%\t Sérvia (7 114 393)\n",
        "11\t Maranhão\t7 114 598\t3,4%\t Paraguai (7 003 406)\n",
        "12\t Goiás\t7 113 540\t3,4%\t Paraguai (7 003 406)\n",
        "13\t Amazonas\t4 207 714\t2,0%\t Líbano (4 168 000)\n",
        "14\t Espírito Santo\t4 064 052\t1,9%\t Líbano (4 168 000)\n",
        "15\t Paraíba\t4 039 277\t1,9%\t Líbano (4 168 000)\n",
        "16\t Rio Grande do Norte\t3 534 165\t1,7%\t Uruguai (3 415 866)\n",
        "17\t Mato Grosso\t3 526 220\t1,7%\t Uruguai (3 415 866)\n",
        "18\t Alagoas\t3 351 543\t1,6%\t Uruguai (3 415 866)\n",
        "19\t Piauí\t3 281 480\t1,6%\t Kuwait (3 268 431)\n",
        "20\t Distrito Federal\t3 055 149\t1,4%\t Lituânia (2 900 787)\n",
        "21\t Mato Grosso do Sul\t2 809 394\t1,3%\t Jamaica (2 717 991)\n",
        "22\t Sergipe\t2 318 822\t1,1%\t Namíbia (2 280 700)\n",
        "23\t Rondônia\t1 796 460\t0,8%\t Gabão (1 725 000)\n",
        "24\t Tocantins\t1 590 248\t0,7%\t Bahrein (1 359 800)\n",
        "25\t Acre\t894 470\t0,4%\t Fiji (859 178)\n",
        "26\t Amapá\t861 773\t0,4%\t Fiji (859 178)\n",
        "27\t Roraima\t631 181\t0,3%\t Luxemburgo (562 958)\"\"\"\n",
        "\n",
        "#Fonte: https://pt.wikipedia.org/wiki/Lista_de_unidades_federativas_do_Brasil_por_popula%C3%A7%C3%A3o"
      ],
      "execution_count": null,
      "outputs": []
    },
    {
      "cell_type": "code",
      "metadata": {
        "colab": {
          "base_uri": "https://localhost:8080/",
          "height": 204
        },
        "id": "HlGs30LW6h5u",
        "outputId": "358fb5ba-3012-4e54-f39f-15266e34d1c0"
      },
      "source": [
        "from io import StringIO\n",
        "\n",
        "dados_populacao_io = StringIO(dados_populacao)\n",
        "\n",
        "populacao = pd.read_csv(dados_populacao_io, sep='\\t')\n",
        "populacao.head()"
      ],
      "execution_count": null,
      "outputs": [
        {
          "output_type": "execute_result",
          "data": {
            "text/html": [
              "<div>\n",
              "<style scoped>\n",
              "    .dataframe tbody tr th:only-of-type {\n",
              "        vertical-align: middle;\n",
              "    }\n",
              "\n",
              "    .dataframe tbody tr th {\n",
              "        vertical-align: top;\n",
              "    }\n",
              "\n",
              "    .dataframe thead th {\n",
              "        text-align: right;\n",
              "    }\n",
              "</style>\n",
              "<table border=\"1\" class=\"dataframe\">\n",
              "  <thead>\n",
              "    <tr style=\"text-align: right;\">\n",
              "      <th></th>\n",
              "      <th>Posição</th>\n",
              "      <th>Unidade federativa</th>\n",
              "      <th>População</th>\n",
              "      <th>% da pop. total</th>\n",
              "      <th>País comparável</th>\n",
              "    </tr>\n",
              "  </thead>\n",
              "  <tbody>\n",
              "    <tr>\n",
              "      <th>0</th>\n",
              "      <td>1</td>\n",
              "      <td>São Paulo</td>\n",
              "      <td>46 289 333</td>\n",
              "      <td>21,9%</td>\n",
              "      <td>Flag of Spain.svg Espanha (46 439 864)</td>\n",
              "    </tr>\n",
              "    <tr>\n",
              "      <th>1</th>\n",
              "      <td>2</td>\n",
              "      <td>Minas Gerais</td>\n",
              "      <td>21 292 666</td>\n",
              "      <td>10,1%</td>\n",
              "      <td>Sri Lanka (20 675 000)</td>\n",
              "    </tr>\n",
              "    <tr>\n",
              "      <th>2</th>\n",
              "      <td>3</td>\n",
              "      <td>Rio de Janeiro</td>\n",
              "      <td>17 366 189</td>\n",
              "      <td>8,2%</td>\n",
              "      <td>Países Baixos (16 922 900)</td>\n",
              "    </tr>\n",
              "    <tr>\n",
              "      <th>3</th>\n",
              "      <td>4</td>\n",
              "      <td>Bahia Bahia</td>\n",
              "      <td>14 930 634</td>\n",
              "      <td>7,1%</td>\n",
              "      <td>Chade (14 037 000)</td>\n",
              "    </tr>\n",
              "    <tr>\n",
              "      <th>4</th>\n",
              "      <td>5</td>\n",
              "      <td>Paraná</td>\n",
              "      <td>11 516 840</td>\n",
              "      <td>5,4%</td>\n",
              "      <td>Bolívia (11 410 651)</td>\n",
              "    </tr>\n",
              "  </tbody>\n",
              "</table>\n",
              "</div>"
            ],
            "text/plain": [
              "   Posição  ...                         País comparável\n",
              "0        1  ...  Flag of Spain.svg Espanha (46 439 864)\n",
              "1        2  ...                  Sri Lanka (20 675 000)\n",
              "2        3  ...              Países Baixos (16 922 900)\n",
              "3        4  ...                      Chade (14 037 000)\n",
              "4        5  ...                    Bolívia (11 410 651)\n",
              "\n",
              "[5 rows x 5 columns]"
            ]
          },
          "metadata": {
            "tags": []
          },
          "execution_count": 71
        }
      ]
    },
    {
      "cell_type": "markdown",
      "metadata": {
        "id": "wfgp5gFr7QE1"
      },
      "source": [
        "### Desafio 1.1: ler os dados direto do wikipedia"
      ]
    },
    {
      "cell_type": "code",
      "metadata": {
        "colab": {
          "base_uri": "https://localhost:8080/"
        },
        "id": "GMNdXBFY6qPU",
        "outputId": "ff195eab-736e-49a5-f868-c2fa116cb6a8"
      },
      "source": [
        "table_wiki = pd.read_html('https://pt.wikipedia.org/wiki/Lista_de_unidades_federativas_do_Brasil_por_popula%C3%A7%C3%A3o')\n",
        "\n",
        "#Quantidade de tabelas encontradas\n",
        "print(len(table_wiki))                        "
      ],
      "execution_count": null,
      "outputs": [
        {
          "output_type": "stream",
          "text": [
            "5\n"
          ],
          "name": "stdout"
        }
      ]
    },
    {
      "cell_type": "code",
      "metadata": {
        "colab": {
          "base_uri": "https://localhost:8080/",
          "height": 204
        },
        "id": "lHzzYuTw-TZG",
        "outputId": "2c932a22-5c15-4468-a419-bc2545429060"
      },
      "source": [
        "#Como não temos um tílulo na tabela e a quantidade de tabelas na página é pequena, \n",
        "  #é possível selecionar a correta manualmente\n",
        "populacao = table_wiki[0]\n",
        "populacao.head()"
      ],
      "execution_count": null,
      "outputs": [
        {
          "output_type": "execute_result",
          "data": {
            "text/html": [
              "<div>\n",
              "<style scoped>\n",
              "    .dataframe tbody tr th:only-of-type {\n",
              "        vertical-align: middle;\n",
              "    }\n",
              "\n",
              "    .dataframe tbody tr th {\n",
              "        vertical-align: top;\n",
              "    }\n",
              "\n",
              "    .dataframe thead th {\n",
              "        text-align: right;\n",
              "    }\n",
              "</style>\n",
              "<table border=\"1\" class=\"dataframe\">\n",
              "  <thead>\n",
              "    <tr style=\"text-align: right;\">\n",
              "      <th></th>\n",
              "      <th>Posição</th>\n",
              "      <th>Unidade federativa</th>\n",
              "      <th>População</th>\n",
              "      <th>% da pop. total</th>\n",
              "      <th>País comparável (habitantes)</th>\n",
              "    </tr>\n",
              "  </thead>\n",
              "  <tbody>\n",
              "    <tr>\n",
              "      <th>0</th>\n",
              "      <td>1</td>\n",
              "      <td>São Paulo</td>\n",
              "      <td>46 289 333</td>\n",
              "      <td>21,9%</td>\n",
              "      <td>Espanha (46 439 864)</td>\n",
              "    </tr>\n",
              "    <tr>\n",
              "      <th>1</th>\n",
              "      <td>2</td>\n",
              "      <td>Minas Gerais</td>\n",
              "      <td>21 292 666</td>\n",
              "      <td>10,1%</td>\n",
              "      <td>Sri Lanka (20 675 000)</td>\n",
              "    </tr>\n",
              "    <tr>\n",
              "      <th>2</th>\n",
              "      <td>3</td>\n",
              "      <td>Rio de Janeiro</td>\n",
              "      <td>17 366 189</td>\n",
              "      <td>8,2%</td>\n",
              "      <td>Países Baixos (16 922 900)</td>\n",
              "    </tr>\n",
              "    <tr>\n",
              "      <th>3</th>\n",
              "      <td>4</td>\n",
              "      <td>Bahia</td>\n",
              "      <td>14 930 634</td>\n",
              "      <td>7,1%</td>\n",
              "      <td>Chade (14 037 000)</td>\n",
              "    </tr>\n",
              "    <tr>\n",
              "      <th>4</th>\n",
              "      <td>5</td>\n",
              "      <td>Paraná</td>\n",
              "      <td>11 516 840</td>\n",
              "      <td>5,4%</td>\n",
              "      <td>Bolívia (11 410 651)</td>\n",
              "    </tr>\n",
              "  </tbody>\n",
              "</table>\n",
              "</div>"
            ],
            "text/plain": [
              "   Posição Unidade federativa  ... % da pop. total País comparável (habitantes)\n",
              "0        1          São Paulo  ...           21,9%         Espanha (46 439 864)\n",
              "1        2       Minas Gerais  ...           10,1%       Sri Lanka (20 675 000)\n",
              "2        3     Rio de Janeiro  ...            8,2%   Países Baixos (16 922 900)\n",
              "3        4              Bahia  ...            7,1%           Chade (14 037 000)\n",
              "4        5             Paraná  ...            5,4%         Bolívia (11 410 651)\n",
              "\n",
              "[5 rows x 5 columns]"
            ]
          },
          "metadata": {
            "tags": []
          },
          "execution_count": 73
        }
      ]
    },
    {
      "cell_type": "markdown",
      "metadata": {
        "id": "xppH-qck7gSR"
      },
      "source": [
        "###-----"
      ]
    },
    {
      "cell_type": "code",
      "metadata": {
        "colab": {
          "base_uri": "https://localhost:8080/"
        },
        "id": "fytommdF7b3X",
        "outputId": "bb595ae6-e23f-43b8-f577-779633e2f341"
      },
      "source": [
        "#transformar colunas para um modulo padronizado\n",
        "populacao.columns"
      ],
      "execution_count": null,
      "outputs": [
        {
          "output_type": "execute_result",
          "data": {
            "text/plain": [
              "Index(['Posição', 'Unidade federativa', 'População', '% da pop. total',\n",
              "       'País comparável (habitantes)'],\n",
              "      dtype='object')"
            ]
          },
          "metadata": {
            "tags": []
          },
          "execution_count": 74
        }
      ]
    },
    {
      "cell_type": "code",
      "metadata": {
        "colab": {
          "base_uri": "https://localhost:8080/"
        },
        "id": "ksPmUIUW7z1H",
        "outputId": "8d03ded4-ae1b-42fb-fc4a-bc8decb61815"
      },
      "source": [
        "novas_colunas = {'Posição':'posicao', 'Unidade federativa':'UF', 'População':'populacao', '% da pop. total':'%_pop_total',\n",
        "       'País comparável':'pais_comparavel'}\n",
        "populacao.rename(columns=novas_colunas, inplace=True)\n",
        "populacao.head()"
      ],
      "execution_count": null,
      "outputs": [
        {
          "output_type": "execute_result",
          "data": {
            "text/html": [
              "<div>\n",
              "<style scoped>\n",
              "    .dataframe tbody tr th:only-of-type {\n",
              "        vertical-align: middle;\n",
              "    }\n",
              "\n",
              "    .dataframe tbody tr th {\n",
              "        vertical-align: top;\n",
              "    }\n",
              "\n",
              "    .dataframe thead th {\n",
              "        text-align: right;\n",
              "    }\n",
              "</style>\n",
              "<table border=\"1\" class=\"dataframe\">\n",
              "  <thead>\n",
              "    <tr style=\"text-align: right;\">\n",
              "      <th></th>\n",
              "      <th>posicao</th>\n",
              "      <th>UF</th>\n",
              "      <th>populacao</th>\n",
              "      <th>%_pop_total</th>\n",
              "      <th>País comparável (habitantes)</th>\n",
              "    </tr>\n",
              "  </thead>\n",
              "  <tbody>\n",
              "    <tr>\n",
              "      <th>0</th>\n",
              "      <td>1</td>\n",
              "      <td>São Paulo</td>\n",
              "      <td>46 289 333</td>\n",
              "      <td>21,9%</td>\n",
              "      <td>Espanha (46 439 864)</td>\n",
              "    </tr>\n",
              "    <tr>\n",
              "      <th>1</th>\n",
              "      <td>2</td>\n",
              "      <td>Minas Gerais</td>\n",
              "      <td>21 292 666</td>\n",
              "      <td>10,1%</td>\n",
              "      <td>Sri Lanka (20 675 000)</td>\n",
              "    </tr>\n",
              "    <tr>\n",
              "      <th>2</th>\n",
              "      <td>3</td>\n",
              "      <td>Rio de Janeiro</td>\n",
              "      <td>17 366 189</td>\n",
              "      <td>8,2%</td>\n",
              "      <td>Países Baixos (16 922 900)</td>\n",
              "    </tr>\n",
              "    <tr>\n",
              "      <th>3</th>\n",
              "      <td>4</td>\n",
              "      <td>Bahia</td>\n",
              "      <td>14 930 634</td>\n",
              "      <td>7,1%</td>\n",
              "      <td>Chade (14 037 000)</td>\n",
              "    </tr>\n",
              "    <tr>\n",
              "      <th>4</th>\n",
              "      <td>5</td>\n",
              "      <td>Paraná</td>\n",
              "      <td>11 516 840</td>\n",
              "      <td>5,4%</td>\n",
              "      <td>Bolívia (11 410 651)</td>\n",
              "    </tr>\n",
              "  </tbody>\n",
              "</table>\n",
              "</div>"
            ],
            "text/plain": [
              "   posicao              UF   populacao %_pop_total País comparável (habitantes)\n",
              "0        1       São Paulo  46 289 333       21,9%         Espanha (46 439 864)\n",
              "1        2    Minas Gerais  21 292 666       10,1%       Sri Lanka (20 675 000)\n",
              "2        3  Rio de Janeiro  17 366 189        8,2%   Países Baixos (16 922 900)\n",
              "3        4           Bahia  14 930 634        7,1%           Chade (14 037 000)\n",
              "4        5          Paraná  11 516 840        5,4%         Bolívia (11 410 651)"
            ]
          },
          "metadata": {
            "tags": []
          },
          "execution_count": 75
        }
      ]
    },
    {
      "cell_type": "code",
      "metadata": {
        "colab": {
          "base_uri": "https://localhost:8080/"
        },
        "id": "RFf3JzyY8Gr_",
        "outputId": "5967958b-1712-4b47-9f8a-e0bea04916df"
      },
      "source": [
        "populacao.info()"
      ],
      "execution_count": null,
      "outputs": [
        {
          "output_type": "stream",
          "text": [
            "<class 'pandas.core.frame.DataFrame'>\n",
            "RangeIndex: 27 entries, 0 to 26\n",
            "Data columns (total 5 columns):\n",
            " #   Column                        Non-Null Count  Dtype \n",
            "---  ------                        --------------  ----- \n",
            " 0   posicao                       27 non-null     int64 \n",
            " 1   UF                            27 non-null     object\n",
            " 2   populacao                     27 non-null     object\n",
            " 3   %_pop_total                   27 non-null     object\n",
            " 4   País comparável (habitantes)  27 non-null     object\n",
            "dtypes: int64(1), object(4)\n",
            "memory usage: 1.2+ KB\n"
          ],
          "name": "stdout"
        }
      ]
    },
    {
      "cell_type": "code",
      "metadata": {
        "id": "r8rTW1LF8Tow"
      },
      "source": [
        "#alterando os tipos de cada coluna\n",
        "populacao['populacao'] = populacao['populacao'].str.replace(\" \",\"\").astype('int')"
      ],
      "execution_count": null,
      "outputs": []
    },
    {
      "cell_type": "code",
      "metadata": {
        "colab": {
          "base_uri": "https://localhost:8080/"
        },
        "id": "LefogvHfCz31",
        "outputId": "2aa76248-24e6-48c7-a78c-ef95d4c946ce"
      },
      "source": [
        "populacao['%_pop_total'] = populacao['%_pop_total'].str.replace(\"%\",\"\").str.replace(\",\",\".\").astype('float')\n",
        "populacao.info()"
      ],
      "execution_count": null,
      "outputs": [
        {
          "output_type": "stream",
          "text": [
            "<class 'pandas.core.frame.DataFrame'>\n",
            "RangeIndex: 27 entries, 0 to 26\n",
            "Data columns (total 5 columns):\n",
            " #   Column                        Non-Null Count  Dtype  \n",
            "---  ------                        --------------  -----  \n",
            " 0   posicao                       27 non-null     int64  \n",
            " 1   UF                            27 non-null     object \n",
            " 2   populacao                     27 non-null     int64  \n",
            " 3   %_pop_total                   27 non-null     float64\n",
            " 4   País comparável (habitantes)  27 non-null     object \n",
            "dtypes: float64(1), int64(2), object(2)\n",
            "memory usage: 1.2+ KB\n"
          ],
          "name": "stdout"
        }
      ]
    },
    {
      "cell_type": "code",
      "metadata": {
        "colab": {
          "base_uri": "https://localhost:8080/"
        },
        "id": "h-H8x1sIBOep",
        "outputId": "69fbb14d-b5c3-4742-a7bb-47a97b3cc906"
      },
      "source": [
        "populacao = populacao[['UF','populacao','%_pop_total']]\n",
        "populacao.head()"
      ],
      "execution_count": null,
      "outputs": [
        {
          "output_type": "execute_result",
          "data": {
            "text/html": [
              "<div>\n",
              "<style scoped>\n",
              "    .dataframe tbody tr th:only-of-type {\n",
              "        vertical-align: middle;\n",
              "    }\n",
              "\n",
              "    .dataframe tbody tr th {\n",
              "        vertical-align: top;\n",
              "    }\n",
              "\n",
              "    .dataframe thead th {\n",
              "        text-align: right;\n",
              "    }\n",
              "</style>\n",
              "<table border=\"1\" class=\"dataframe\">\n",
              "  <thead>\n",
              "    <tr style=\"text-align: right;\">\n",
              "      <th></th>\n",
              "      <th>UF</th>\n",
              "      <th>populacao</th>\n",
              "      <th>%_pop_total</th>\n",
              "    </tr>\n",
              "  </thead>\n",
              "  <tbody>\n",
              "    <tr>\n",
              "      <th>0</th>\n",
              "      <td>São Paulo</td>\n",
              "      <td>46289333</td>\n",
              "      <td>21.90</td>\n",
              "    </tr>\n",
              "    <tr>\n",
              "      <th>1</th>\n",
              "      <td>Minas Gerais</td>\n",
              "      <td>21292666</td>\n",
              "      <td>10.10</td>\n",
              "    </tr>\n",
              "    <tr>\n",
              "      <th>2</th>\n",
              "      <td>Rio de Janeiro</td>\n",
              "      <td>17366189</td>\n",
              "      <td>8.20</td>\n",
              "    </tr>\n",
              "    <tr>\n",
              "      <th>3</th>\n",
              "      <td>Bahia</td>\n",
              "      <td>14930634</td>\n",
              "      <td>7.10</td>\n",
              "    </tr>\n",
              "    <tr>\n",
              "      <th>4</th>\n",
              "      <td>Paraná</td>\n",
              "      <td>11516840</td>\n",
              "      <td>5.40</td>\n",
              "    </tr>\n",
              "  </tbody>\n",
              "</table>\n",
              "</div>"
            ],
            "text/plain": [
              "               UF  populacao  %_pop_total\n",
              "0       São Paulo   46289333        21.90\n",
              "1    Minas Gerais   21292666        10.10\n",
              "2  Rio de Janeiro   17366189         8.20\n",
              "3           Bahia   14930634         7.10\n",
              "4          Paraná   11516840         5.40"
            ]
          },
          "metadata": {
            "tags": []
          },
          "execution_count": 79
        }
      ]
    },
    {
      "cell_type": "code",
      "metadata": {
        "id": "msk0PqoBDAiQ"
      },
      "source": [
        "populacao = populacao.set_index('UF')"
      ],
      "execution_count": null,
      "outputs": []
    },
    {
      "cell_type": "code",
      "metadata": {
        "colab": {
          "base_uri": "https://localhost:8080/"
        },
        "id": "zb6UASdlDS-A",
        "outputId": "d6d5fd77-04b4-4e34-d870-785e571a4468"
      },
      "source": [
        "display(populacao.head())\n",
        "display(gastos_mes_mais_recente.head())"
      ],
      "execution_count": null,
      "outputs": [
        {
          "output_type": "display_data",
          "data": {
            "text/html": [
              "<div>\n",
              "<style scoped>\n",
              "    .dataframe tbody tr th:only-of-type {\n",
              "        vertical-align: middle;\n",
              "    }\n",
              "\n",
              "    .dataframe tbody tr th {\n",
              "        vertical-align: top;\n",
              "    }\n",
              "\n",
              "    .dataframe thead th {\n",
              "        text-align: right;\n",
              "    }\n",
              "</style>\n",
              "<table border=\"1\" class=\"dataframe\">\n",
              "  <thead>\n",
              "    <tr style=\"text-align: right;\">\n",
              "      <th></th>\n",
              "      <th>populacao</th>\n",
              "      <th>%_pop_total</th>\n",
              "    </tr>\n",
              "    <tr>\n",
              "      <th>UF</th>\n",
              "      <th></th>\n",
              "      <th></th>\n",
              "    </tr>\n",
              "  </thead>\n",
              "  <tbody>\n",
              "    <tr>\n",
              "      <th>São Paulo</th>\n",
              "      <td>46289333</td>\n",
              "      <td>21.90</td>\n",
              "    </tr>\n",
              "    <tr>\n",
              "      <th>Minas Gerais</th>\n",
              "      <td>21292666</td>\n",
              "      <td>10.10</td>\n",
              "    </tr>\n",
              "    <tr>\n",
              "      <th>Rio de Janeiro</th>\n",
              "      <td>17366189</td>\n",
              "      <td>8.20</td>\n",
              "    </tr>\n",
              "    <tr>\n",
              "      <th>Bahia</th>\n",
              "      <td>14930634</td>\n",
              "      <td>7.10</td>\n",
              "    </tr>\n",
              "    <tr>\n",
              "      <th>Paraná</th>\n",
              "      <td>11516840</td>\n",
              "      <td>5.40</td>\n",
              "    </tr>\n",
              "  </tbody>\n",
              "</table>\n",
              "</div>"
            ],
            "text/plain": [
              "                populacao  %_pop_total\n",
              "UF                                    \n",
              "São Paulo        46289333        21.90\n",
              "Minas Gerais     21292666        10.10\n",
              "Rio de Janeiro   17366189         8.20\n",
              "Bahia            14930634         7.10\n",
              "Paraná           11516840         5.40"
            ]
          },
          "metadata": {
            "tags": []
          }
        },
        {
          "output_type": "display_data",
          "data": {
            "text/plain": [
              "Unidade da Federação\n",
              "São Paulo           282.71\n",
              "Minas Gerais        120.47\n",
              "Paraná               80.32\n",
              "Rio Grande do Sul    78.93\n",
              "Rio de Janeiro       71.54\n",
              "Name: 2020/Jul, dtype: float64"
            ]
          },
          "metadata": {
            "tags": []
          }
        }
      ]
    },
    {
      "cell_type": "code",
      "metadata": {
        "colab": {
          "base_uri": "https://localhost:8080/"
        },
        "id": "6BtDhmfvDUlZ",
        "outputId": "13a3a466-1910-4d57-f931-656358b6a103"
      },
      "source": [
        "gastos_mes_mais_recente.head()"
      ],
      "execution_count": null,
      "outputs": [
        {
          "output_type": "execute_result",
          "data": {
            "text/plain": [
              "Unidade da Federação\n",
              "São Paulo           282.71\n",
              "Minas Gerais        120.47\n",
              "Paraná               80.32\n",
              "Rio Grande do Sul    78.93\n",
              "Rio de Janeiro       71.54\n",
              "Name: 2020/Jul, dtype: float64"
            ]
          },
          "metadata": {
            "tags": []
          },
          "execution_count": 82
        }
      ]
    },
    {
      "cell_type": "code",
      "metadata": {
        "id": "cvJ7TpfwG1pg"
      },
      "source": [
        "#Retirar espaços antes e depois do índice, caso tenha\n",
        "populacao.index = populacao.index.str.strip()\n",
        "\n"
      ],
      "execution_count": null,
      "outputs": []
    },
    {
      "cell_type": "code",
      "metadata": {
        "colab": {
          "base_uri": "https://localhost:8080/"
        },
        "id": "NTillgZhJaHe",
        "outputId": "fcf82337-eca0-4ebb-f5be-4cad016c23a8"
      },
      "source": [
        "#Limpar casos com nome do estado duplicados\n",
        "\n",
        "for estado in gastos_mes_mais_recente.index:\n",
        "  #print(f\"{estado} {estado} => {estado}\")\n",
        "  populacao.index = populacao.index.str.replace(f'{estado} {estado}', estado)\n",
        "populacao.index"
      ],
      "execution_count": null,
      "outputs": [
        {
          "output_type": "execute_result",
          "data": {
            "text/plain": [
              "Index(['São Paulo', 'Minas Gerais', 'Rio de Janeiro', 'Bahia', 'Paraná',\n",
              "       'Rio Grande do Sul', 'Pernambuco', 'Ceará', 'Pará', 'Santa Catarina',\n",
              "       'Maranhão', 'Goiás', 'Amazonas', 'Espírito Santo', 'Paraíba',\n",
              "       'Rio Grande do Norte', 'Mato Grosso', 'Alagoas', 'Piauí',\n",
              "       'Distrito Federal', 'Mato Grosso do Sul', 'Sergipe', 'Rondônia',\n",
              "       'Tocantins', 'Acre', 'Amapá', 'Roraima'],\n",
              "      dtype='object', name='UF')"
            ]
          },
          "metadata": {
            "tags": []
          },
          "execution_count": 84
        }
      ]
    },
    {
      "cell_type": "code",
      "metadata": {
        "colab": {
          "base_uri": "https://localhost:8080/"
        },
        "id": "_BVTdwNQF-fJ",
        "outputId": "0bf36a79-3ba4-45c7-e60d-6daa942edc59"
      },
      "source": [
        "gastos_e_populacao_recente = populacao.join(gastos_mes_mais_recente)\n",
        "gastos_e_populacao_recente"
      ],
      "execution_count": null,
      "outputs": [
        {
          "output_type": "execute_result",
          "data": {
            "text/html": [
              "<div>\n",
              "<style scoped>\n",
              "    .dataframe tbody tr th:only-of-type {\n",
              "        vertical-align: middle;\n",
              "    }\n",
              "\n",
              "    .dataframe tbody tr th {\n",
              "        vertical-align: top;\n",
              "    }\n",
              "\n",
              "    .dataframe thead th {\n",
              "        text-align: right;\n",
              "    }\n",
              "</style>\n",
              "<table border=\"1\" class=\"dataframe\">\n",
              "  <thead>\n",
              "    <tr style=\"text-align: right;\">\n",
              "      <th></th>\n",
              "      <th>populacao</th>\n",
              "      <th>%_pop_total</th>\n",
              "      <th>2020/Jul</th>\n",
              "    </tr>\n",
              "    <tr>\n",
              "      <th>UF</th>\n",
              "      <th></th>\n",
              "      <th></th>\n",
              "      <th></th>\n",
              "    </tr>\n",
              "  </thead>\n",
              "  <tbody>\n",
              "    <tr>\n",
              "      <th>São Paulo</th>\n",
              "      <td>46289333</td>\n",
              "      <td>21.90</td>\n",
              "      <td>282.71</td>\n",
              "    </tr>\n",
              "    <tr>\n",
              "      <th>Minas Gerais</th>\n",
              "      <td>21292666</td>\n",
              "      <td>10.10</td>\n",
              "      <td>120.47</td>\n",
              "    </tr>\n",
              "    <tr>\n",
              "      <th>Rio de Janeiro</th>\n",
              "      <td>17366189</td>\n",
              "      <td>8.20</td>\n",
              "      <td>71.54</td>\n",
              "    </tr>\n",
              "    <tr>\n",
              "      <th>Bahia</th>\n",
              "      <td>14930634</td>\n",
              "      <td>7.10</td>\n",
              "      <td>58.90</td>\n",
              "    </tr>\n",
              "    <tr>\n",
              "      <th>Paraná</th>\n",
              "      <td>11516840</td>\n",
              "      <td>5.40</td>\n",
              "      <td>80.32</td>\n",
              "    </tr>\n",
              "    <tr>\n",
              "      <th>Rio Grande do Sul</th>\n",
              "      <td>11422973</td>\n",
              "      <td>5.40</td>\n",
              "      <td>78.93</td>\n",
              "    </tr>\n",
              "    <tr>\n",
              "      <th>Pernambuco</th>\n",
              "      <td>9616621</td>\n",
              "      <td>4.50</td>\n",
              "      <td>62.33</td>\n",
              "    </tr>\n",
              "    <tr>\n",
              "      <th>Ceará</th>\n",
              "      <td>9187103</td>\n",
              "      <td>4.30</td>\n",
              "      <td>30.81</td>\n",
              "    </tr>\n",
              "    <tr>\n",
              "      <th>Pará</th>\n",
              "      <td>8690745</td>\n",
              "      <td>4.10</td>\n",
              "      <td>27.62</td>\n",
              "    </tr>\n",
              "    <tr>\n",
              "      <th>Santa Catarina</th>\n",
              "      <td>7252502</td>\n",
              "      <td>3.40</td>\n",
              "      <td>51.76</td>\n",
              "    </tr>\n",
              "    <tr>\n",
              "      <th>Maranhão</th>\n",
              "      <td>7114598</td>\n",
              "      <td>3.40</td>\n",
              "      <td>24.37</td>\n",
              "    </tr>\n",
              "    <tr>\n",
              "      <th>Goiás</th>\n",
              "      <td>7113540</td>\n",
              "      <td>3.40</td>\n",
              "      <td>33.50</td>\n",
              "    </tr>\n",
              "    <tr>\n",
              "      <th>Amazonas</th>\n",
              "      <td>4207714</td>\n",
              "      <td>2.00</td>\n",
              "      <td>13.36</td>\n",
              "    </tr>\n",
              "    <tr>\n",
              "      <th>Espírito Santo</th>\n",
              "      <td>4064052</td>\n",
              "      <td>1.90</td>\n",
              "      <td>27.46</td>\n",
              "    </tr>\n",
              "    <tr>\n",
              "      <th>Paraíba</th>\n",
              "      <td>4039277</td>\n",
              "      <td>1.90</td>\n",
              "      <td>15.49</td>\n",
              "    </tr>\n",
              "    <tr>\n",
              "      <th>Rio Grande do Norte</th>\n",
              "      <td>3534165</td>\n",
              "      <td>1.70</td>\n",
              "      <td>19.59</td>\n",
              "    </tr>\n",
              "    <tr>\n",
              "      <th>Mato Grosso</th>\n",
              "      <td>3526220</td>\n",
              "      <td>1.70</td>\n",
              "      <td>13.08</td>\n",
              "    </tr>\n",
              "    <tr>\n",
              "      <th>Alagoas</th>\n",
              "      <td>3351543</td>\n",
              "      <td>1.60</td>\n",
              "      <td>13.09</td>\n",
              "    </tr>\n",
              "    <tr>\n",
              "      <th>Piauí</th>\n",
              "      <td>3281480</td>\n",
              "      <td>1.60</td>\n",
              "      <td>18.02</td>\n",
              "    </tr>\n",
              "    <tr>\n",
              "      <th>Distrito Federal</th>\n",
              "      <td>3055149</td>\n",
              "      <td>1.40</td>\n",
              "      <td>22.23</td>\n",
              "    </tr>\n",
              "    <tr>\n",
              "      <th>Mato Grosso do Sul</th>\n",
              "      <td>2809394</td>\n",
              "      <td>1.30</td>\n",
              "      <td>12.51</td>\n",
              "    </tr>\n",
              "    <tr>\n",
              "      <th>Sergipe</th>\n",
              "      <td>2318822</td>\n",
              "      <td>1.10</td>\n",
              "      <td>3.31</td>\n",
              "    </tr>\n",
              "    <tr>\n",
              "      <th>Rondônia</th>\n",
              "      <td>1796460</td>\n",
              "      <td>0.80</td>\n",
              "      <td>7.41</td>\n",
              "    </tr>\n",
              "    <tr>\n",
              "      <th>Tocantins</th>\n",
              "      <td>1590248</td>\n",
              "      <td>0.70</td>\n",
              "      <td>4.49</td>\n",
              "    </tr>\n",
              "    <tr>\n",
              "      <th>Acre</th>\n",
              "      <td>894470</td>\n",
              "      <td>0.40</td>\n",
              "      <td>1.16</td>\n",
              "    </tr>\n",
              "    <tr>\n",
              "      <th>Amapá</th>\n",
              "      <td>861773</td>\n",
              "      <td>0.40</td>\n",
              "      <td>2.16</td>\n",
              "    </tr>\n",
              "    <tr>\n",
              "      <th>Roraima</th>\n",
              "      <td>631181</td>\n",
              "      <td>0.30</td>\n",
              "      <td>2.74</td>\n",
              "    </tr>\n",
              "  </tbody>\n",
              "</table>\n",
              "</div>"
            ],
            "text/plain": [
              "                     populacao  %_pop_total  2020/Jul\n",
              "UF                                                   \n",
              "São Paulo             46289333        21.90    282.71\n",
              "Minas Gerais          21292666        10.10    120.47\n",
              "Rio de Janeiro        17366189         8.20     71.54\n",
              "Bahia                 14930634         7.10     58.90\n",
              "Paraná                11516840         5.40     80.32\n",
              "Rio Grande do Sul     11422973         5.40     78.93\n",
              "Pernambuco             9616621         4.50     62.33\n",
              "Ceará                  9187103         4.30     30.81\n",
              "Pará                   8690745         4.10     27.62\n",
              "Santa Catarina         7252502         3.40     51.76\n",
              "Maranhão               7114598         3.40     24.37\n",
              "Goiás                  7113540         3.40     33.50\n",
              "Amazonas               4207714         2.00     13.36\n",
              "Espírito Santo         4064052         1.90     27.46\n",
              "Paraíba                4039277         1.90     15.49\n",
              "Rio Grande do Norte    3534165         1.70     19.59\n",
              "Mato Grosso            3526220         1.70     13.08\n",
              "Alagoas                3351543         1.60     13.09\n",
              "Piauí                  3281480         1.60     18.02\n",
              "Distrito Federal       3055149         1.40     22.23\n",
              "Mato Grosso do Sul     2809394         1.30     12.51\n",
              "Sergipe                2318822         1.10      3.31\n",
              "Rondônia               1796460         0.80      7.41\n",
              "Tocantins              1590248         0.70      4.49\n",
              "Acre                    894470         0.40      1.16\n",
              "Amapá                   861773         0.40      2.16\n",
              "Roraima                 631181         0.30      2.74"
            ]
          },
          "metadata": {
            "tags": []
          },
          "execution_count": 85
        }
      ]
    },
    {
      "cell_type": "markdown",
      "metadata": {
        "id": "br9THGrdInEi"
      },
      "source": [
        "### Desafio 1.2: Estruturar uma função para limpar os dados, retornando a tabela \"populacao\" e a tabela unida"
      ]
    },
    {
      "cell_type": "code",
      "metadata": {
        "id": "FKURh4vOIzhD"
      },
      "source": [
        "def CleasingPopulation(tabela,tabela_de_index):\n",
        "  tabela.rename(columns={'Posição':'posicao', 'Unidade federativa':'UF', 'População':'populacao', '% da pop. total':'%_pop_total',\n",
        "       'País comparável':'pais_comparavel'}, inplace=True)\n",
        "  #alterando os tipos de cada coluna\n",
        "  tabela['populacao'] = tabela['populacao'].str.replace(\" \",\"\").astype('int')\n",
        "  tabela['%_pop_total'] = tabela['%_pop_total'].str.replace(\"%\",\"\").str.replace(\",\",\".\").astype('float')\n",
        "  \n",
        "  #selecionar apenas as colunas de interesse, mudando o index para UF\n",
        "  tabela = tabela[['UF','populacao']].set_index('UF')\n",
        "  \n",
        "  #Retirar espaços antes e depois do índice, caso tenha\n",
        "  tabela.index = tabela.index.str.strip()\n",
        "\n",
        "  #Limpar casos com nome do estado duplicados\n",
        "\n",
        "\n",
        "  for estado in tabela_de_index.index:\n",
        "    tabela.index = tabela.index.str.replace(f'{estado} {estado}', estado)\n",
        "\n",
        "\n",
        "  return tabela.join(tabela_de_index)\n",
        "\n"
      ],
      "execution_count": null,
      "outputs": []
    },
    {
      "cell_type": "code",
      "metadata": {
        "colab": {
          "base_uri": "https://localhost:8080/"
        },
        "id": "HOpBgHqce54m",
        "outputId": "79be2036-761a-4ecb-e05e-628ff8c16270"
      },
      "source": [
        "gastos_mes_mais_recente\n"
      ],
      "execution_count": null,
      "outputs": [
        {
          "output_type": "execute_result",
          "data": {
            "text/plain": [
              "Unidade da Federação\n",
              "São Paulo             282.71\n",
              "Minas Gerais          120.47\n",
              "Paraná                 80.32\n",
              "Rio Grande do Sul      78.93\n",
              "Rio de Janeiro         71.54\n",
              "Pernambuco             62.33\n",
              "Bahia                  58.90\n",
              "Santa Catarina         51.76\n",
              "Goiás                  33.50\n",
              "Ceará                  30.81\n",
              "Pará                   27.62\n",
              "Espírito Santo         27.46\n",
              "Maranhão               24.37\n",
              "Distrito Federal       22.23\n",
              "Rio Grande do Norte    19.59\n",
              "Piauí                  18.02\n",
              "Paraíba                15.49\n",
              "Amazonas               13.36\n",
              "Alagoas                13.09\n",
              "Mato Grosso            13.08\n",
              "Mato Grosso do Sul     12.51\n",
              "Rondônia                7.41\n",
              "Tocantins               4.49\n",
              "Sergipe                 3.31\n",
              "Roraima                 2.74\n",
              "Amapá                   2.16\n",
              "Acre                    1.16\n",
              "Name: 2020/Jul, dtype: float64"
            ]
          },
          "metadata": {
            "tags": []
          },
          "execution_count": 87
        }
      ]
    },
    {
      "cell_type": "code",
      "metadata": {
        "colab": {
          "base_uri": "https://localhost:8080/"
        },
        "id": "5t81lRfQOLzJ",
        "outputId": "36095b26-bb5e-4f59-ba81-98e08c7273f7"
      },
      "source": [
        "dados_populacao_io = StringIO(dados_populacao)\n",
        "populacao = pd.read_csv(dados_populacao_io, sep='\\t')\n",
        "\n",
        "CleasingPopulation(populacao,gastos_mes_mais_recente)"
      ],
      "execution_count": null,
      "outputs": [
        {
          "output_type": "execute_result",
          "data": {
            "text/html": [
              "<div>\n",
              "<style scoped>\n",
              "    .dataframe tbody tr th:only-of-type {\n",
              "        vertical-align: middle;\n",
              "    }\n",
              "\n",
              "    .dataframe tbody tr th {\n",
              "        vertical-align: top;\n",
              "    }\n",
              "\n",
              "    .dataframe thead th {\n",
              "        text-align: right;\n",
              "    }\n",
              "</style>\n",
              "<table border=\"1\" class=\"dataframe\">\n",
              "  <thead>\n",
              "    <tr style=\"text-align: right;\">\n",
              "      <th></th>\n",
              "      <th>populacao</th>\n",
              "      <th>2020/Jul</th>\n",
              "    </tr>\n",
              "    <tr>\n",
              "      <th>UF</th>\n",
              "      <th></th>\n",
              "      <th></th>\n",
              "    </tr>\n",
              "  </thead>\n",
              "  <tbody>\n",
              "    <tr>\n",
              "      <th>São Paulo</th>\n",
              "      <td>46289333</td>\n",
              "      <td>282.71</td>\n",
              "    </tr>\n",
              "    <tr>\n",
              "      <th>Minas Gerais</th>\n",
              "      <td>21292666</td>\n",
              "      <td>120.47</td>\n",
              "    </tr>\n",
              "    <tr>\n",
              "      <th>Rio de Janeiro</th>\n",
              "      <td>17366189</td>\n",
              "      <td>71.54</td>\n",
              "    </tr>\n",
              "    <tr>\n",
              "      <th>Bahia</th>\n",
              "      <td>14930634</td>\n",
              "      <td>58.90</td>\n",
              "    </tr>\n",
              "    <tr>\n",
              "      <th>Paraná</th>\n",
              "      <td>11516840</td>\n",
              "      <td>80.32</td>\n",
              "    </tr>\n",
              "    <tr>\n",
              "      <th>Rio Grande do Sul</th>\n",
              "      <td>11422973</td>\n",
              "      <td>78.93</td>\n",
              "    </tr>\n",
              "    <tr>\n",
              "      <th>Pernambuco</th>\n",
              "      <td>9616621</td>\n",
              "      <td>62.33</td>\n",
              "    </tr>\n",
              "    <tr>\n",
              "      <th>Ceará</th>\n",
              "      <td>9187103</td>\n",
              "      <td>30.81</td>\n",
              "    </tr>\n",
              "    <tr>\n",
              "      <th>Pará</th>\n",
              "      <td>8690745</td>\n",
              "      <td>27.62</td>\n",
              "    </tr>\n",
              "    <tr>\n",
              "      <th>Santa Catarina</th>\n",
              "      <td>7252502</td>\n",
              "      <td>51.76</td>\n",
              "    </tr>\n",
              "    <tr>\n",
              "      <th>Maranhão</th>\n",
              "      <td>7114598</td>\n",
              "      <td>24.37</td>\n",
              "    </tr>\n",
              "    <tr>\n",
              "      <th>Goiás</th>\n",
              "      <td>7113540</td>\n",
              "      <td>33.50</td>\n",
              "    </tr>\n",
              "    <tr>\n",
              "      <th>Amazonas</th>\n",
              "      <td>4207714</td>\n",
              "      <td>13.36</td>\n",
              "    </tr>\n",
              "    <tr>\n",
              "      <th>Espírito Santo</th>\n",
              "      <td>4064052</td>\n",
              "      <td>27.46</td>\n",
              "    </tr>\n",
              "    <tr>\n",
              "      <th>Paraíba</th>\n",
              "      <td>4039277</td>\n",
              "      <td>15.49</td>\n",
              "    </tr>\n",
              "    <tr>\n",
              "      <th>Rio Grande do Norte</th>\n",
              "      <td>3534165</td>\n",
              "      <td>19.59</td>\n",
              "    </tr>\n",
              "    <tr>\n",
              "      <th>Mato Grosso</th>\n",
              "      <td>3526220</td>\n",
              "      <td>13.08</td>\n",
              "    </tr>\n",
              "    <tr>\n",
              "      <th>Alagoas</th>\n",
              "      <td>3351543</td>\n",
              "      <td>13.09</td>\n",
              "    </tr>\n",
              "    <tr>\n",
              "      <th>Piauí</th>\n",
              "      <td>3281480</td>\n",
              "      <td>18.02</td>\n",
              "    </tr>\n",
              "    <tr>\n",
              "      <th>Distrito Federal</th>\n",
              "      <td>3055149</td>\n",
              "      <td>22.23</td>\n",
              "    </tr>\n",
              "    <tr>\n",
              "      <th>Mato Grosso do Sul</th>\n",
              "      <td>2809394</td>\n",
              "      <td>12.51</td>\n",
              "    </tr>\n",
              "    <tr>\n",
              "      <th>Sergipe</th>\n",
              "      <td>2318822</td>\n",
              "      <td>3.31</td>\n",
              "    </tr>\n",
              "    <tr>\n",
              "      <th>Rondônia</th>\n",
              "      <td>1796460</td>\n",
              "      <td>7.41</td>\n",
              "    </tr>\n",
              "    <tr>\n",
              "      <th>Tocantins</th>\n",
              "      <td>1590248</td>\n",
              "      <td>4.49</td>\n",
              "    </tr>\n",
              "    <tr>\n",
              "      <th>Acre</th>\n",
              "      <td>894470</td>\n",
              "      <td>1.16</td>\n",
              "    </tr>\n",
              "    <tr>\n",
              "      <th>Amapá</th>\n",
              "      <td>861773</td>\n",
              "      <td>2.16</td>\n",
              "    </tr>\n",
              "    <tr>\n",
              "      <th>Roraima</th>\n",
              "      <td>631181</td>\n",
              "      <td>2.74</td>\n",
              "    </tr>\n",
              "  </tbody>\n",
              "</table>\n",
              "</div>"
            ],
            "text/plain": [
              "                     populacao  2020/Jul\n",
              "UF                                      \n",
              "São Paulo             46289333    282.71\n",
              "Minas Gerais          21292666    120.47\n",
              "Rio de Janeiro        17366189     71.54\n",
              "Bahia                 14930634     58.90\n",
              "Paraná                11516840     80.32\n",
              "Rio Grande do Sul     11422973     78.93\n",
              "Pernambuco             9616621     62.33\n",
              "Ceará                  9187103     30.81\n",
              "Pará                   8690745     27.62\n",
              "Santa Catarina         7252502     51.76\n",
              "Maranhão               7114598     24.37\n",
              "Goiás                  7113540     33.50\n",
              "Amazonas               4207714     13.36\n",
              "Espírito Santo         4064052     27.46\n",
              "Paraíba                4039277     15.49\n",
              "Rio Grande do Norte    3534165     19.59\n",
              "Mato Grosso            3526220     13.08\n",
              "Alagoas                3351543     13.09\n",
              "Piauí                  3281480     18.02\n",
              "Distrito Federal       3055149     22.23\n",
              "Mato Grosso do Sul     2809394     12.51\n",
              "Sergipe                2318822      3.31\n",
              "Rondônia               1796460      7.41\n",
              "Tocantins              1590248      4.49\n",
              "Acre                    894470      1.16\n",
              "Amapá                   861773      2.16\n",
              "Roraima                 631181      2.74"
            ]
          },
          "metadata": {
            "tags": []
          },
          "execution_count": 88
        }
      ]
    },
    {
      "cell_type": "markdown",
      "metadata": {
        "id": "FEx7h0KeLmfX"
      },
      "source": [
        "### ----"
      ]
    },
    {
      "cell_type": "markdown",
      "metadata": {
        "id": "CQFt-0Vh2svW"
      },
      "source": [
        "##Aula 2"
      ]
    },
    {
      "cell_type": "code",
      "metadata": {
        "id": "TBJekK4AGezm"
      },
      "source": [
        "gastos_e_populacao_recente = gastos_e_populacao_recente.drop('%_pop_total',axis=1)"
      ],
      "execution_count": null,
      "outputs": []
    },
    {
      "cell_type": "code",
      "metadata": {
        "colab": {
          "base_uri": "https://localhost:8080/"
        },
        "id": "_weZIfvAeABv",
        "outputId": "a857f33d-1266-4874-ae90-be33ba8fd30d"
      },
      "source": [
        "gastos_e_populacao_recente.head(10)"
      ],
      "execution_count": null,
      "outputs": [
        {
          "output_type": "execute_result",
          "data": {
            "text/html": [
              "<div>\n",
              "<style scoped>\n",
              "    .dataframe tbody tr th:only-of-type {\n",
              "        vertical-align: middle;\n",
              "    }\n",
              "\n",
              "    .dataframe tbody tr th {\n",
              "        vertical-align: top;\n",
              "    }\n",
              "\n",
              "    .dataframe thead th {\n",
              "        text-align: right;\n",
              "    }\n",
              "</style>\n",
              "<table border=\"1\" class=\"dataframe\">\n",
              "  <thead>\n",
              "    <tr style=\"text-align: right;\">\n",
              "      <th></th>\n",
              "      <th>populacao</th>\n",
              "      <th>2020/Jul</th>\n",
              "    </tr>\n",
              "    <tr>\n",
              "      <th>UF</th>\n",
              "      <th></th>\n",
              "      <th></th>\n",
              "    </tr>\n",
              "  </thead>\n",
              "  <tbody>\n",
              "    <tr>\n",
              "      <th>São Paulo</th>\n",
              "      <td>46289333</td>\n",
              "      <td>282.71</td>\n",
              "    </tr>\n",
              "    <tr>\n",
              "      <th>Minas Gerais</th>\n",
              "      <td>21292666</td>\n",
              "      <td>120.47</td>\n",
              "    </tr>\n",
              "    <tr>\n",
              "      <th>Rio de Janeiro</th>\n",
              "      <td>17366189</td>\n",
              "      <td>71.54</td>\n",
              "    </tr>\n",
              "    <tr>\n",
              "      <th>Bahia</th>\n",
              "      <td>14930634</td>\n",
              "      <td>58.90</td>\n",
              "    </tr>\n",
              "    <tr>\n",
              "      <th>Paraná</th>\n",
              "      <td>11516840</td>\n",
              "      <td>80.32</td>\n",
              "    </tr>\n",
              "    <tr>\n",
              "      <th>Rio Grande do Sul</th>\n",
              "      <td>11422973</td>\n",
              "      <td>78.93</td>\n",
              "    </tr>\n",
              "    <tr>\n",
              "      <th>Pernambuco</th>\n",
              "      <td>9616621</td>\n",
              "      <td>62.33</td>\n",
              "    </tr>\n",
              "    <tr>\n",
              "      <th>Ceará</th>\n",
              "      <td>9187103</td>\n",
              "      <td>30.81</td>\n",
              "    </tr>\n",
              "    <tr>\n",
              "      <th>Pará</th>\n",
              "      <td>8690745</td>\n",
              "      <td>27.62</td>\n",
              "    </tr>\n",
              "    <tr>\n",
              "      <th>Santa Catarina</th>\n",
              "      <td>7252502</td>\n",
              "      <td>51.76</td>\n",
              "    </tr>\n",
              "  </tbody>\n",
              "</table>\n",
              "</div>"
            ],
            "text/plain": [
              "                   populacao  2020/Jul\n",
              "UF                                    \n",
              "São Paulo           46289333    282.71\n",
              "Minas Gerais        21292666    120.47\n",
              "Rio de Janeiro      17366189     71.54\n",
              "Bahia               14930634     58.90\n",
              "Paraná              11516840     80.32\n",
              "Rio Grande do Sul   11422973     78.93\n",
              "Pernambuco           9616621     62.33\n",
              "Ceará                9187103     30.81\n",
              "Pará                 8690745     27.62\n",
              "Santa Catarina       7252502     51.76"
            ]
          },
          "metadata": {
            "tags": []
          },
          "execution_count": 90
        }
      ]
    },
    {
      "cell_type": "code",
      "metadata": {
        "id": "Vzqrq7dKLk76",
        "colab": {
          "base_uri": "https://localhost:8080/"
        },
        "outputId": "501d19f7-28b7-41a3-8750-d95aaac99db6"
      },
      "source": [
        "#horripilante (dados de unidades diferentes no mesmo eixo)\n",
        "gastos_e_populacao_recente['gastos'] = gastos_e_populacao_recente['2020/Jul']*1000000\n",
        "gastos_e_populacao_recente[['gastos','populacao']].plot()"
      ],
      "execution_count": null,
      "outputs": [
        {
          "output_type": "execute_result",
          "data": {
            "text/plain": [
              "<matplotlib.axes._subplots.AxesSubplot at 0x7f87dbe29110>"
            ]
          },
          "metadata": {
            "tags": []
          },
          "execution_count": 91
        },
        {
          "output_type": "display_data",
          "data": {
            "image/png": "[encoded data removed]",
            "text/plain": [
              "<Figure size 432x288 with 1 Axes>"
            ]
          },
          "metadata": {
            "tags": [],
            "needs_background": "light"
          }
        }
      ]
    },
    {
      "cell_type": "code",
      "metadata": {
        "id": "gl5QuxrHLjo6",
        "colab": {
          "base_uri": "https://localhost:8080/"
        },
        "outputId": "aabd664a-c00c-4ffd-9c86-c2d3018f9427"
      },
      "source": [
        "#Com o gráfico do jeito que está, parece uma diferença muito maior do que é realmente\n",
        "gastos_e_populacao_recente.loc[['Rio Grande do Sul', 'São Paulo']]"
      ],
      "execution_count": null,
      "outputs": [
        {
          "output_type": "execute_result",
          "data": {
            "text/html": [
              "<div>\n",
              "<style scoped>\n",
              "    .dataframe tbody tr th:only-of-type {\n",
              "        vertical-align: middle;\n",
              "    }\n",
              "\n",
              "    .dataframe tbody tr th {\n",
              "        vertical-align: top;\n",
              "    }\n",
              "\n",
              "    .dataframe thead th {\n",
              "        text-align: right;\n",
              "    }\n",
              "</style>\n",
              "<table border=\"1\" class=\"dataframe\">\n",
              "  <thead>\n",
              "    <tr style=\"text-align: right;\">\n",
              "      <th></th>\n",
              "      <th>populacao</th>\n",
              "      <th>2020/Jul</th>\n",
              "      <th>gastos</th>\n",
              "    </tr>\n",
              "    <tr>\n",
              "      <th>UF</th>\n",
              "      <th></th>\n",
              "      <th></th>\n",
              "      <th></th>\n",
              "    </tr>\n",
              "  </thead>\n",
              "  <tbody>\n",
              "    <tr>\n",
              "      <th>Rio Grande do Sul</th>\n",
              "      <td>11422973</td>\n",
              "      <td>78.93</td>\n",
              "      <td>78929703.81</td>\n",
              "    </tr>\n",
              "    <tr>\n",
              "      <th>São Paulo</th>\n",
              "      <td>46289333</td>\n",
              "      <td>282.71</td>\n",
              "      <td>282709570.31</td>\n",
              "    </tr>\n",
              "  </tbody>\n",
              "</table>\n",
              "</div>"
            ],
            "text/plain": [
              "                   populacao  2020/Jul       gastos\n",
              "UF                                                 \n",
              "Rio Grande do Sul   11422973     78.93  78929703.81\n",
              "São Paulo           46289333    282.71 282709570.31"
            ]
          },
          "metadata": {
            "tags": []
          },
          "execution_count": 92
        }
      ]
    },
    {
      "cell_type": "code",
      "metadata": {
        "colab": {
          "base_uri": "https://localhost:8080/"
        },
        "id": "mMmYNzcZ5bQo",
        "outputId": "54de637d-6b6b-4c8b-9920-f70eff5b5e6a"
      },
      "source": [
        "gastos_e_populacao_recente['gasto_por_habitante'] = gastos_e_populacao_recente['gastos']/gastos_e_populacao_recente['populacao']\n",
        "gastos_e_populacao_recente.head()"
      ],
      "execution_count": null,
      "outputs": [
        {
          "output_type": "execute_result",
          "data": {
            "text/html": [
              "<div>\n",
              "<style scoped>\n",
              "    .dataframe tbody tr th:only-of-type {\n",
              "        vertical-align: middle;\n",
              "    }\n",
              "\n",
              "    .dataframe tbody tr th {\n",
              "        vertical-align: top;\n",
              "    }\n",
              "\n",
              "    .dataframe thead th {\n",
              "        text-align: right;\n",
              "    }\n",
              "</style>\n",
              "<table border=\"1\" class=\"dataframe\">\n",
              "  <thead>\n",
              "    <tr style=\"text-align: right;\">\n",
              "      <th></th>\n",
              "      <th>populacao</th>\n",
              "      <th>2020/Jul</th>\n",
              "      <th>gastos</th>\n",
              "      <th>gasto_por_habitante</th>\n",
              "    </tr>\n",
              "    <tr>\n",
              "      <th>UF</th>\n",
              "      <th></th>\n",
              "      <th></th>\n",
              "      <th></th>\n",
              "      <th></th>\n",
              "    </tr>\n",
              "  </thead>\n",
              "  <tbody>\n",
              "    <tr>\n",
              "      <th>São Paulo</th>\n",
              "      <td>46289333</td>\n",
              "      <td>282.71</td>\n",
              "      <td>282709570.31</td>\n",
              "      <td>6.11</td>\n",
              "    </tr>\n",
              "    <tr>\n",
              "      <th>Minas Gerais</th>\n",
              "      <td>21292666</td>\n",
              "      <td>120.47</td>\n",
              "      <td>120467187.34</td>\n",
              "      <td>5.66</td>\n",
              "    </tr>\n",
              "    <tr>\n",
              "      <th>Rio de Janeiro</th>\n",
              "      <td>17366189</td>\n",
              "      <td>71.54</td>\n",
              "      <td>71540227.33</td>\n",
              "      <td>4.12</td>\n",
              "    </tr>\n",
              "    <tr>\n",
              "      <th>Bahia</th>\n",
              "      <td>14930634</td>\n",
              "      <td>58.90</td>\n",
              "      <td>58898100.40</td>\n",
              "      <td>3.94</td>\n",
              "    </tr>\n",
              "    <tr>\n",
              "      <th>Paraná</th>\n",
              "      <td>11516840</td>\n",
              "      <td>80.32</td>\n",
              "      <td>80320852.69</td>\n",
              "      <td>6.97</td>\n",
              "    </tr>\n",
              "  </tbody>\n",
              "</table>\n",
              "</div>"
            ],
            "text/plain": [
              "                populacao  2020/Jul       gastos  gasto_por_habitante\n",
              "UF                                                                   \n",
              "São Paulo        46289333    282.71 282709570.31                 6.11\n",
              "Minas Gerais     21292666    120.47 120467187.34                 5.66\n",
              "Rio de Janeiro   17366189     71.54  71540227.33                 4.12\n",
              "Bahia            14930634     58.90  58898100.40                 3.94\n",
              "Paraná           11516840     80.32  80320852.69                 6.97"
            ]
          },
          "metadata": {
            "tags": []
          },
          "execution_count": 93
        }
      ]
    },
    {
      "cell_type": "code",
      "metadata": {
        "colab": {
          "base_uri": "https://localhost:8080/"
        },
        "id": "AUGCBDaZ54tj",
        "outputId": "60baf44d-e649-4c94-f8fd-ddfc4bc9335a"
      },
      "source": [
        "#Ordenado por estado que gasta mais em valor absoluto\n",
        "gastos_e_populacao_recente.sort_values('gastos',\n",
        "    ascending=False)['gasto_por_habitante'].plot(kind='bar')"
      ],
      "execution_count": null,
      "outputs": [
        {
          "output_type": "execute_result",
          "data": {
            "text/plain": [
              "<matplotlib.axes._subplots.AxesSubplot at 0x7f87dbdbb650>"
            ]
          },
          "metadata": {
            "tags": []
          },
          "execution_count": 94
        },
        {
          "output_type": "display_data",
          "data": {
            "image/png": "[encoded data removed]",
            "text/plain": [
              "<Figure size 432x288 with 1 Axes>"
            ]
          },
          "metadata": {
            "tags": [],
            "needs_background": "light"
          }
        }
      ]
    },
    {
      "cell_type": "markdown",
      "metadata": {
        "id": "vrww3IeH677L"
      },
      "source": [
        "### Desafio 2.1: Ordenar por gasto por habitante; Ordenar por habitantes"
      ]
    },
    {
      "cell_type": "code",
      "metadata": {
        "colab": {
          "base_uri": "https://localhost:8080/"
        },
        "id": "sZZMBOlK8lc3",
        "outputId": "974a983b-31c7-48d4-9d3a-dc33648ccc3f"
      },
      "source": [
        "#Ordenado por estado com maior gasto por habitante\n",
        "gastos_e_populacao_recente['gasto_por_habitante'].sort_values(\n",
        "    ascending=False).plot(kind='bar')"
      ],
      "execution_count": null,
      "outputs": [
        {
          "output_type": "execute_result",
          "data": {
            "text/plain": [
              "<matplotlib.axes._subplots.AxesSubplot at 0x7f87dbcb2890>"
            ]
          },
          "metadata": {
            "tags": []
          },
          "execution_count": 95
        },
        {
          "output_type": "display_data",
          "data": {
            "image/png": "[encoded data removed]",
            "text/plain": [
              "<Figure size 432x288 with 1 Axes>"
            ]
          },
          "metadata": {
            "tags": [],
            "needs_background": "light"
          }
        }
      ]
    },
    {
      "cell_type": "code",
      "metadata": {
        "colab": {
          "base_uri": "https://localhost:8080/"
        },
        "id": "8CE5H7rb9Xz1",
        "outputId": "6d7dfabf-ab39-4e11-a8b4-45836a273c44"
      },
      "source": [
        "#Ordenado por estado com maior população\n",
        "gastos_e_populacao_recente.sort_values('populacao',\n",
        "    ascending=False)['gasto_por_habitante'].plot(kind='bar')"
      ],
      "execution_count": null,
      "outputs": [
        {
          "output_type": "execute_result",
          "data": {
            "text/plain": [
              "<matplotlib.axes._subplots.AxesSubplot at 0x7f87dbc9a990>"
            ]
          },
          "metadata": {
            "tags": []
          },
          "execution_count": 96
        },
        {
          "output_type": "display_data",
          "data": {
            "image/png": "[encoded data removed]",
            "text/plain": [
              "<Figure size 432x288 with 1 Axes>"
            ]
          },
          "metadata": {
            "tags": [],
            "needs_background": "light"
          }
        }
      ]
    },
    {
      "cell_type": "code",
      "metadata": {
        "colab": {
          "base_uri": "https://localhost:8080/"
        },
        "id": "2oPbZb-G-YcZ",
        "outputId": "d5b62c66-3a09-4a1a-9a51-72579ad0f71e"
      },
      "source": [
        "gastos_e_populacao_recente.sort_values('populacao',\n",
        "    ascending=False)"
      ],
      "execution_count": null,
      "outputs": [
        {
          "output_type": "execute_result",
          "data": {
            "text/html": [
              "<div>\n",
              "<style scoped>\n",
              "    .dataframe tbody tr th:only-of-type {\n",
              "        vertical-align: middle;\n",
              "    }\n",
              "\n",
              "    .dataframe tbody tr th {\n",
              "        vertical-align: top;\n",
              "    }\n",
              "\n",
              "    .dataframe thead th {\n",
              "        text-align: right;\n",
              "    }\n",
              "</style>\n",
              "<table border=\"1\" class=\"dataframe\">\n",
              "  <thead>\n",
              "    <tr style=\"text-align: right;\">\n",
              "      <th></th>\n",
              "      <th>populacao</th>\n",
              "      <th>2020/Jul</th>\n",
              "      <th>gastos</th>\n",
              "      <th>gasto_por_habitante</th>\n",
              "    </tr>\n",
              "    <tr>\n",
              "      <th>UF</th>\n",
              "      <th></th>\n",
              "      <th></th>\n",
              "      <th></th>\n",
              "      <th></th>\n",
              "    </tr>\n",
              "  </thead>\n",
              "  <tbody>\n",
              "    <tr>\n",
              "      <th>São Paulo</th>\n",
              "      <td>46289333</td>\n",
              "      <td>282.71</td>\n",
              "      <td>282709570.31</td>\n",
              "      <td>6.11</td>\n",
              "    </tr>\n",
              "    <tr>\n",
              "      <th>Minas Gerais</th>\n",
              "      <td>21292666</td>\n",
              "      <td>120.47</td>\n",
              "      <td>120467187.34</td>\n",
              "      <td>5.66</td>\n",
              "    </tr>\n",
              "    <tr>\n",
              "      <th>Rio de Janeiro</th>\n",
              "      <td>17366189</td>\n",
              "      <td>71.54</td>\n",
              "      <td>71540227.33</td>\n",
              "      <td>4.12</td>\n",
              "    </tr>\n",
              "    <tr>\n",
              "      <th>Bahia</th>\n",
              "      <td>14930634</td>\n",
              "      <td>58.90</td>\n",
              "      <td>58898100.40</td>\n",
              "      <td>3.94</td>\n",
              "    </tr>\n",
              "    <tr>\n",
              "      <th>Paraná</th>\n",
              "      <td>11516840</td>\n",
              "      <td>80.32</td>\n",
              "      <td>80320852.69</td>\n",
              "      <td>6.97</td>\n",
              "    </tr>\n",
              "    <tr>\n",
              "      <th>Rio Grande do Sul</th>\n",
              "      <td>11422973</td>\n",
              "      <td>78.93</td>\n",
              "      <td>78929703.81</td>\n",
              "      <td>6.91</td>\n",
              "    </tr>\n",
              "    <tr>\n",
              "      <th>Pernambuco</th>\n",
              "      <td>9616621</td>\n",
              "      <td>62.33</td>\n",
              "      <td>62325444.34</td>\n",
              "      <td>6.48</td>\n",
              "    </tr>\n",
              "    <tr>\n",
              "      <th>Ceará</th>\n",
              "      <td>9187103</td>\n",
              "      <td>30.81</td>\n",
              "      <td>30809221.22</td>\n",
              "      <td>3.35</td>\n",
              "    </tr>\n",
              "    <tr>\n",
              "      <th>Pará</th>\n",
              "      <td>8690745</td>\n",
              "      <td>27.62</td>\n",
              "      <td>27618727.51</td>\n",
              "      <td>3.18</td>\n",
              "    </tr>\n",
              "    <tr>\n",
              "      <th>Santa Catarina</th>\n",
              "      <td>7252502</td>\n",
              "      <td>51.76</td>\n",
              "      <td>51764534.76</td>\n",
              "      <td>7.14</td>\n",
              "    </tr>\n",
              "    <tr>\n",
              "      <th>Maranhão</th>\n",
              "      <td>7114598</td>\n",
              "      <td>24.37</td>\n",
              "      <td>24374205.15</td>\n",
              "      <td>3.43</td>\n",
              "    </tr>\n",
              "    <tr>\n",
              "      <th>Goiás</th>\n",
              "      <td>7113540</td>\n",
              "      <td>33.50</td>\n",
              "      <td>33499284.38</td>\n",
              "      <td>4.71</td>\n",
              "    </tr>\n",
              "    <tr>\n",
              "      <th>Amazonas</th>\n",
              "      <td>4207714</td>\n",
              "      <td>13.36</td>\n",
              "      <td>13358514.02</td>\n",
              "      <td>3.17</td>\n",
              "    </tr>\n",
              "    <tr>\n",
              "      <th>Espírito Santo</th>\n",
              "      <td>4064052</td>\n",
              "      <td>27.46</td>\n",
              "      <td>27460475.47</td>\n",
              "      <td>6.76</td>\n",
              "    </tr>\n",
              "    <tr>\n",
              "      <th>Paraíba</th>\n",
              "      <td>4039277</td>\n",
              "      <td>15.49</td>\n",
              "      <td>15491469.06</td>\n",
              "      <td>3.84</td>\n",
              "    </tr>\n",
              "    <tr>\n",
              "      <th>Rio Grande do Norte</th>\n",
              "      <td>3534165</td>\n",
              "      <td>19.59</td>\n",
              "      <td>19593057.45</td>\n",
              "      <td>5.54</td>\n",
              "    </tr>\n",
              "    <tr>\n",
              "      <th>Mato Grosso</th>\n",
              "      <td>3526220</td>\n",
              "      <td>13.08</td>\n",
              "      <td>13083151.70</td>\n",
              "      <td>3.71</td>\n",
              "    </tr>\n",
              "    <tr>\n",
              "      <th>Alagoas</th>\n",
              "      <td>3351543</td>\n",
              "      <td>13.09</td>\n",
              "      <td>13087850.40</td>\n",
              "      <td>3.91</td>\n",
              "    </tr>\n",
              "    <tr>\n",
              "      <th>Piauí</th>\n",
              "      <td>3281480</td>\n",
              "      <td>18.02</td>\n",
              "      <td>18019214.49</td>\n",
              "      <td>5.49</td>\n",
              "    </tr>\n",
              "    <tr>\n",
              "      <th>Distrito Federal</th>\n",
              "      <td>3055149</td>\n",
              "      <td>22.23</td>\n",
              "      <td>22233542.26</td>\n",
              "      <td>7.28</td>\n",
              "    </tr>\n",
              "    <tr>\n",
              "      <th>Mato Grosso do Sul</th>\n",
              "      <td>2809394</td>\n",
              "      <td>12.51</td>\n",
              "      <td>12508717.35</td>\n",
              "      <td>4.45</td>\n",
              "    </tr>\n",
              "    <tr>\n",
              "      <th>Sergipe</th>\n",
              "      <td>2318822</td>\n",
              "      <td>3.31</td>\n",
              "      <td>3312766.32</td>\n",
              "      <td>1.43</td>\n",
              "    </tr>\n",
              "    <tr>\n",
              "      <th>Rondônia</th>\n",
              "      <td>1796460</td>\n",
              "      <td>7.41</td>\n",
              "      <td>7407388.24</td>\n",
              "      <td>4.12</td>\n",
              "    </tr>\n",
              "    <tr>\n",
              "      <th>Tocantins</th>\n",
              "      <td>1590248</td>\n",
              "      <td>4.49</td>\n",
              "      <td>4489665.87</td>\n",
              "      <td>2.82</td>\n",
              "    </tr>\n",
              "    <tr>\n",
              "      <th>Acre</th>\n",
              "      <td>894470</td>\n",
              "      <td>1.16</td>\n",
              "      <td>1163813.08</td>\n",
              "      <td>1.30</td>\n",
              "    </tr>\n",
              "    <tr>\n",
              "      <th>Amapá</th>\n",
              "      <td>861773</td>\n",
              "      <td>2.16</td>\n",
              "      <td>2155083.37</td>\n",
              "      <td>2.50</td>\n",
              "    </tr>\n",
              "    <tr>\n",
              "      <th>Roraima</th>\n",
              "      <td>631181</td>\n",
              "      <td>2.74</td>\n",
              "      <td>2739498.41</td>\n",
              "      <td>4.34</td>\n",
              "    </tr>\n",
              "  </tbody>\n",
              "</table>\n",
              "</div>"
            ],
            "text/plain": [
              "                     populacao  2020/Jul       gastos  gasto_por_habitante\n",
              "UF                                                                        \n",
              "São Paulo             46289333    282.71 282709570.31                 6.11\n",
              "Minas Gerais          21292666    120.47 120467187.34                 5.66\n",
              "Rio de Janeiro        17366189     71.54  71540227.33                 4.12\n",
              "Bahia                 14930634     58.90  58898100.40                 3.94\n",
              "Paraná                11516840     80.32  80320852.69                 6.97\n",
              "Rio Grande do Sul     11422973     78.93  78929703.81                 6.91\n",
              "Pernambuco             9616621     62.33  62325444.34                 6.48\n",
              "Ceará                  9187103     30.81  30809221.22                 3.35\n",
              "Pará                   8690745     27.62  27618727.51                 3.18\n",
              "Santa Catarina         7252502     51.76  51764534.76                 7.14\n",
              "Maranhão               7114598     24.37  24374205.15                 3.43\n",
              "Goiás                  7113540     33.50  33499284.38                 4.71\n",
              "Amazonas               4207714     13.36  13358514.02                 3.17\n",
              "Espírito Santo         4064052     27.46  27460475.47                 6.76\n",
              "Paraíba                4039277     15.49  15491469.06                 3.84\n",
              "Rio Grande do Norte    3534165     19.59  19593057.45                 5.54\n",
              "Mato Grosso            3526220     13.08  13083151.70                 3.71\n",
              "Alagoas                3351543     13.09  13087850.40                 3.91\n",
              "Piauí                  3281480     18.02  18019214.49                 5.49\n",
              "Distrito Federal       3055149     22.23  22233542.26                 7.28\n",
              "Mato Grosso do Sul     2809394     12.51  12508717.35                 4.45\n",
              "Sergipe                2318822      3.31   3312766.32                 1.43\n",
              "Rondônia               1796460      7.41   7407388.24                 4.12\n",
              "Tocantins              1590248      4.49   4489665.87                 2.82\n",
              "Acre                    894470      1.16   1163813.08                 1.30\n",
              "Amapá                   861773      2.16   2155083.37                 2.50\n",
              "Roraima                 631181      2.74   2739498.41                 4.34"
            ]
          },
          "metadata": {
            "tags": []
          },
          "execution_count": 97
        }
      ]
    },
    {
      "cell_type": "markdown",
      "metadata": {
        "id": "VZ9XQL-y7DUe"
      },
      "source": [
        "##----"
      ]
    },
    {
      "cell_type": "code",
      "metadata": {
        "colab": {
          "base_uri": "https://localhost:8080/"
        },
        "id": "0phRGfUX6ize",
        "outputId": "23207c40-32be-4f93-a89b-3bd7f8ca1515"
      },
      "source": [
        "import seaborn as sns\n",
        "\n",
        "sns.scatterplot(data=gastos_e_populacao_recente/1000000, x='populacao', y='gastos')"
      ],
      "execution_count": null,
      "outputs": [
        {
          "output_type": "execute_result",
          "data": {
            "text/plain": [
              "<matplotlib.axes._subplots.AxesSubplot at 0x7f87cdbe9850>"
            ]
          },
          "metadata": {
            "tags": []
          },
          "execution_count": 98
        },
        {
          "output_type": "display_data",
          "data": {
            "image/png": "[encoded data removed]",
            "text/plain": [
              "<Figure size 432x288 with 1 Axes>"
            ]
          },
          "metadata": {
            "tags": [],
            "needs_background": "light"
          }
        }
      ]
    },
    {
      "cell_type": "code",
      "metadata": {
        "colab": {
          "base_uri": "https://localhost:8080/"
        },
        "id": "AfvfF9-q7O9X",
        "outputId": "e8dbd224-ced9-4ca0-b374-1e3ada2cd6c1"
      },
      "source": [
        "plt.figure(figsize = (7,7))\n",
        "sns.scatterplot(data=gastos_e_populacao_recente/1000000, x='populacao', y='gastos')"
      ],
      "execution_count": null,
      "outputs": [
        {
          "output_type": "execute_result",
          "data": {
            "text/plain": [
              "<matplotlib.axes._subplots.AxesSubplot at 0x7f87cdb4e510>"
            ]
          },
          "metadata": {
            "tags": []
          },
          "execution_count": 99
        },
        {
          "output_type": "display_data",
          "data": {
            "image/png": "[encoded data removed]",
            "text/plain": [
              "<Figure size 504x504 with 1 Axes>"
            ]
          },
          "metadata": {
            "tags": [],
            "needs_background": "light"
          }
        }
      ]
    },
    {
      "cell_type": "code",
      "metadata": {
        "colab": {
          "base_uri": "https://localhost:8080/"
        },
        "id": "J1miBkxh7ubi",
        "outputId": "c0136fa3-4959-46d7-cb10-0fae203fe7c1"
      },
      "source": [
        "plt.figure(figsize = (7,7))\n",
        "sns.scatterplot(data=gastos_e_populacao_recente, x='populacao', y='gasto_por_habitante')"
      ],
      "execution_count": null,
      "outputs": [
        {
          "output_type": "execute_result",
          "data": {
            "text/plain": [
              "<matplotlib.axes._subplots.AxesSubplot at 0x7f87cd32f7d0>"
            ]
          },
          "metadata": {
            "tags": []
          },
          "execution_count": 100
        },
        {
          "output_type": "display_data",
          "data": {
            "image/png": "[encoded data removed]",
            "text/plain": [
              "<Figure size 504x504 with 1 Axes>"
            ]
          },
          "metadata": {
            "tags": [],
            "needs_background": "light"
          }
        }
      ]
    },
    {
      "cell_type": "markdown",
      "metadata": {
        "id": "NytReUK58TS-"
      },
      "source": [
        "### Desafio 2.2: fazer os ultimos gráficos para o mês anterior"
      ]
    },
    {
      "cell_type": "code",
      "metadata": {
        "colab": {
          "base_uri": "https://localhost:8080/"
        },
        "id": "zzbfLlYc-uJT",
        "outputId": "8285ef55-1518-4a35-fc7a-8c6ed4c34ce1"
      },
      "source": [
        "#Separando os gastos dos últimos ultimos 6 meses\n",
        "semestre_mais_recente = ordenados_total.columns[-2:]\n",
        "semestre_mais_recente"
      ],
      "execution_count": null,
      "outputs": [
        {
          "output_type": "execute_result",
          "data": {
            "text/plain": [
              "Index(['2020/Jun', '2020/Jul'], dtype='object')"
            ]
          },
          "metadata": {
            "tags": []
          },
          "execution_count": 101
        }
      ]
    },
    {
      "cell_type": "code",
      "metadata": {
        "colab": {
          "base_uri": "https://localhost:8080/"
        },
        "id": "ndb7Qgcr_qH9",
        "outputId": "9087118c-935a-4eab-ffaf-fc23926f515a"
      },
      "source": [
        "gastos_semestre_mais_recente = ordenados_total[semestre_mais_recente]\n",
        "gastos_semestre_mais_recente.plot()"
      ],
      "execution_count": null,
      "outputs": [
        {
          "output_type": "execute_result",
          "data": {
            "text/plain": [
              "<matplotlib.axes._subplots.AxesSubplot at 0x7f87cd2fd310>"
            ]
          },
          "metadata": {
            "tags": []
          },
          "execution_count": 102
        },
        {
          "output_type": "display_data",
          "data": {
            "image/png": "[encoded data removed]",
            "text/plain": [
              "<Figure size 432x288 with 1 Axes>"
            ]
          },
          "metadata": {
            "tags": [],
            "needs_background": "light"
          }
        }
      ]
    },
    {
      "cell_type": "code",
      "metadata": {
        "colab": {
          "base_uri": "https://localhost:8080/"
        },
        "id": "Mh31rvEEBIp_",
        "outputId": "bcc5790e-b80b-4cff-bfb4-eca62ff25949"
      },
      "source": [
        "gastos_semestre_mais_recente"
      ],
      "execution_count": null,
      "outputs": [
        {
          "output_type": "execute_result",
          "data": {
            "text/html": [
              "<div>\n",
              "<style scoped>\n",
              "    .dataframe tbody tr th:only-of-type {\n",
              "        vertical-align: middle;\n",
              "    }\n",
              "\n",
              "    .dataframe tbody tr th {\n",
              "        vertical-align: top;\n",
              "    }\n",
              "\n",
              "    .dataframe thead th {\n",
              "        text-align: right;\n",
              "    }\n",
              "</style>\n",
              "<table border=\"1\" class=\"dataframe\">\n",
              "  <thead>\n",
              "    <tr style=\"text-align: right;\">\n",
              "      <th></th>\n",
              "      <th>2020/Jun</th>\n",
              "      <th>2020/Jul</th>\n",
              "    </tr>\n",
              "    <tr>\n",
              "      <th>Unidade da Federação</th>\n",
              "      <th></th>\n",
              "      <th></th>\n",
              "    </tr>\n",
              "  </thead>\n",
              "  <tbody>\n",
              "    <tr>\n",
              "      <th>São Paulo</th>\n",
              "      <td>299.06</td>\n",
              "      <td>282.71</td>\n",
              "    </tr>\n",
              "    <tr>\n",
              "      <th>Minas Gerais</th>\n",
              "      <td>135.98</td>\n",
              "      <td>120.47</td>\n",
              "    </tr>\n",
              "    <tr>\n",
              "      <th>Paraná</th>\n",
              "      <td>92.90</td>\n",
              "      <td>80.32</td>\n",
              "    </tr>\n",
              "    <tr>\n",
              "      <th>Rio Grande do Sul</th>\n",
              "      <td>89.02</td>\n",
              "      <td>78.93</td>\n",
              "    </tr>\n",
              "    <tr>\n",
              "      <th>Rio de Janeiro</th>\n",
              "      <td>77.60</td>\n",
              "      <td>71.54</td>\n",
              "    </tr>\n",
              "    <tr>\n",
              "      <th>Bahia</th>\n",
              "      <td>65.16</td>\n",
              "      <td>58.90</td>\n",
              "    </tr>\n",
              "    <tr>\n",
              "      <th>Pernambuco</th>\n",
              "      <td>68.15</td>\n",
              "      <td>62.33</td>\n",
              "    </tr>\n",
              "    <tr>\n",
              "      <th>Santa Catarina</th>\n",
              "      <td>56.50</td>\n",
              "      <td>51.76</td>\n",
              "    </tr>\n",
              "    <tr>\n",
              "      <th>Ceará</th>\n",
              "      <td>42.15</td>\n",
              "      <td>30.81</td>\n",
              "    </tr>\n",
              "    <tr>\n",
              "      <th>Goiás</th>\n",
              "      <td>34.44</td>\n",
              "      <td>33.50</td>\n",
              "    </tr>\n",
              "    <tr>\n",
              "      <th>Pará</th>\n",
              "      <td>35.40</td>\n",
              "      <td>27.62</td>\n",
              "    </tr>\n",
              "    <tr>\n",
              "      <th>Maranhão</th>\n",
              "      <td>31.13</td>\n",
              "      <td>24.37</td>\n",
              "    </tr>\n",
              "    <tr>\n",
              "      <th>Espírito Santo</th>\n",
              "      <td>27.45</td>\n",
              "      <td>27.46</td>\n",
              "    </tr>\n",
              "    <tr>\n",
              "      <th>Rio Grande do Norte</th>\n",
              "      <td>20.22</td>\n",
              "      <td>19.59</td>\n",
              "    </tr>\n",
              "    <tr>\n",
              "      <th>Paraíba</th>\n",
              "      <td>19.67</td>\n",
              "      <td>15.49</td>\n",
              "    </tr>\n",
              "    <tr>\n",
              "      <th>Distrito Federal</th>\n",
              "      <td>23.48</td>\n",
              "      <td>22.23</td>\n",
              "    </tr>\n",
              "    <tr>\n",
              "      <th>Mato Grosso do Sul</th>\n",
              "      <td>15.84</td>\n",
              "      <td>12.51</td>\n",
              "    </tr>\n",
              "    <tr>\n",
              "      <th>Piauí</th>\n",
              "      <td>15.38</td>\n",
              "      <td>18.02</td>\n",
              "    </tr>\n",
              "    <tr>\n",
              "      <th>Alagoas</th>\n",
              "      <td>14.28</td>\n",
              "      <td>13.09</td>\n",
              "    </tr>\n",
              "    <tr>\n",
              "      <th>Mato Grosso</th>\n",
              "      <td>14.59</td>\n",
              "      <td>13.08</td>\n",
              "    </tr>\n",
              "    <tr>\n",
              "      <th>Amazonas</th>\n",
              "      <td>17.51</td>\n",
              "      <td>13.36</td>\n",
              "    </tr>\n",
              "    <tr>\n",
              "      <th>Sergipe</th>\n",
              "      <td>6.71</td>\n",
              "      <td>3.31</td>\n",
              "    </tr>\n",
              "    <tr>\n",
              "      <th>Tocantins</th>\n",
              "      <td>5.02</td>\n",
              "      <td>4.49</td>\n",
              "    </tr>\n",
              "    <tr>\n",
              "      <th>Rondônia</th>\n",
              "      <td>9.19</td>\n",
              "      <td>7.41</td>\n",
              "    </tr>\n",
              "    <tr>\n",
              "      <th>Acre</th>\n",
              "      <td>2.20</td>\n",
              "      <td>1.16</td>\n",
              "    </tr>\n",
              "    <tr>\n",
              "      <th>Roraima</th>\n",
              "      <td>3.22</td>\n",
              "      <td>2.74</td>\n",
              "    </tr>\n",
              "    <tr>\n",
              "      <th>Amapá</th>\n",
              "      <td>2.70</td>\n",
              "      <td>2.16</td>\n",
              "    </tr>\n",
              "  </tbody>\n",
              "</table>\n",
              "</div>"
            ],
            "text/plain": [
              "                      2020/Jun  2020/Jul\n",
              "Unidade da Federação                    \n",
              "São Paulo               299.06    282.71\n",
              "Minas Gerais            135.98    120.47\n",
              "Paraná                   92.90     80.32\n",
              "Rio Grande do Sul        89.02     78.93\n",
              "Rio de Janeiro           77.60     71.54\n",
              "Bahia                    65.16     58.90\n",
              "Pernambuco               68.15     62.33\n",
              "Santa Catarina           56.50     51.76\n",
              "Ceará                    42.15     30.81\n",
              "Goiás                    34.44     33.50\n",
              "Pará                     35.40     27.62\n",
              "Maranhão                 31.13     24.37\n",
              "Espírito Santo           27.45     27.46\n",
              "Rio Grande do Norte      20.22     19.59\n",
              "Paraíba                  19.67     15.49\n",
              "Distrito Federal         23.48     22.23\n",
              "Mato Grosso do Sul       15.84     12.51\n",
              "Piauí                    15.38     18.02\n",
              "Alagoas                  14.28     13.09\n",
              "Mato Grosso              14.59     13.08\n",
              "Amazonas                 17.51     13.36\n",
              "Sergipe                   6.71      3.31\n",
              "Tocantins                 5.02      4.49\n",
              "Rondônia                  9.19      7.41\n",
              "Acre                      2.20      1.16\n",
              "Roraima                   3.22      2.74\n",
              "Amapá                     2.70      2.16"
            ]
          },
          "metadata": {
            "tags": []
          },
          "execution_count": 103
        }
      ]
    },
    {
      "cell_type": "code",
      "metadata": {
        "colab": {
          "base_uri": "https://localhost:8080/"
        },
        "id": "7mpBukgs_vWP",
        "outputId": "ad0f06fc-0afe-4de5-f3c7-c1b488eddf1a"
      },
      "source": [
        "#Rodando novamente a função para juntar gastos e população\n",
        "dados_populacao_io = StringIO(dados_populacao)\n",
        "populacao = pd.read_csv(dados_populacao_io, sep='\\t')\n",
        "\n",
        "gastos_e_populacao_semestre = CleasingPopulation(populacao,gastos_semestre_mais_recente)\n",
        "gastos_e_populacao_semestre"
      ],
      "execution_count": null,
      "outputs": [
        {
          "output_type": "execute_result",
          "data": {
            "text/html": [
              "<div>\n",
              "<style scoped>\n",
              "    .dataframe tbody tr th:only-of-type {\n",
              "        vertical-align: middle;\n",
              "    }\n",
              "\n",
              "    .dataframe tbody tr th {\n",
              "        vertical-align: top;\n",
              "    }\n",
              "\n",
              "    .dataframe thead th {\n",
              "        text-align: right;\n",
              "    }\n",
              "</style>\n",
              "<table border=\"1\" class=\"dataframe\">\n",
              "  <thead>\n",
              "    <tr style=\"text-align: right;\">\n",
              "      <th></th>\n",
              "      <th>populacao</th>\n",
              "      <th>2020/Jun</th>\n",
              "      <th>2020/Jul</th>\n",
              "    </tr>\n",
              "    <tr>\n",
              "      <th>UF</th>\n",
              "      <th></th>\n",
              "      <th></th>\n",
              "      <th></th>\n",
              "    </tr>\n",
              "  </thead>\n",
              "  <tbody>\n",
              "    <tr>\n",
              "      <th>São Paulo</th>\n",
              "      <td>46289333</td>\n",
              "      <td>299.06</td>\n",
              "      <td>282.71</td>\n",
              "    </tr>\n",
              "    <tr>\n",
              "      <th>Minas Gerais</th>\n",
              "      <td>21292666</td>\n",
              "      <td>135.98</td>\n",
              "      <td>120.47</td>\n",
              "    </tr>\n",
              "    <tr>\n",
              "      <th>Rio de Janeiro</th>\n",
              "      <td>17366189</td>\n",
              "      <td>77.60</td>\n",
              "      <td>71.54</td>\n",
              "    </tr>\n",
              "    <tr>\n",
              "      <th>Bahia</th>\n",
              "      <td>14930634</td>\n",
              "      <td>65.16</td>\n",
              "      <td>58.90</td>\n",
              "    </tr>\n",
              "    <tr>\n",
              "      <th>Paraná</th>\n",
              "      <td>11516840</td>\n",
              "      <td>92.90</td>\n",
              "      <td>80.32</td>\n",
              "    </tr>\n",
              "    <tr>\n",
              "      <th>Rio Grande do Sul</th>\n",
              "      <td>11422973</td>\n",
              "      <td>89.02</td>\n",
              "      <td>78.93</td>\n",
              "    </tr>\n",
              "    <tr>\n",
              "      <th>Pernambuco</th>\n",
              "      <td>9616621</td>\n",
              "      <td>68.15</td>\n",
              "      <td>62.33</td>\n",
              "    </tr>\n",
              "    <tr>\n",
              "      <th>Ceará</th>\n",
              "      <td>9187103</td>\n",
              "      <td>42.15</td>\n",
              "      <td>30.81</td>\n",
              "    </tr>\n",
              "    <tr>\n",
              "      <th>Pará</th>\n",
              "      <td>8690745</td>\n",
              "      <td>35.40</td>\n",
              "      <td>27.62</td>\n",
              "    </tr>\n",
              "    <tr>\n",
              "      <th>Santa Catarina</th>\n",
              "      <td>7252502</td>\n",
              "      <td>56.50</td>\n",
              "      <td>51.76</td>\n",
              "    </tr>\n",
              "    <tr>\n",
              "      <th>Maranhão</th>\n",
              "      <td>7114598</td>\n",
              "      <td>31.13</td>\n",
              "      <td>24.37</td>\n",
              "    </tr>\n",
              "    <tr>\n",
              "      <th>Goiás</th>\n",
              "      <td>7113540</td>\n",
              "      <td>34.44</td>\n",
              "      <td>33.50</td>\n",
              "    </tr>\n",
              "    <tr>\n",
              "      <th>Amazonas</th>\n",
              "      <td>4207714</td>\n",
              "      <td>17.51</td>\n",
              "      <td>13.36</td>\n",
              "    </tr>\n",
              "    <tr>\n",
              "      <th>Espírito Santo</th>\n",
              "      <td>4064052</td>\n",
              "      <td>27.45</td>\n",
              "      <td>27.46</td>\n",
              "    </tr>\n",
              "    <tr>\n",
              "      <th>Paraíba</th>\n",
              "      <td>4039277</td>\n",
              "      <td>19.67</td>\n",
              "      <td>15.49</td>\n",
              "    </tr>\n",
              "    <tr>\n",
              "      <th>Rio Grande do Norte</th>\n",
              "      <td>3534165</td>\n",
              "      <td>20.22</td>\n",
              "      <td>19.59</td>\n",
              "    </tr>\n",
              "    <tr>\n",
              "      <th>Mato Grosso</th>\n",
              "      <td>3526220</td>\n",
              "      <td>14.59</td>\n",
              "      <td>13.08</td>\n",
              "    </tr>\n",
              "    <tr>\n",
              "      <th>Alagoas</th>\n",
              "      <td>3351543</td>\n",
              "      <td>14.28</td>\n",
              "      <td>13.09</td>\n",
              "    </tr>\n",
              "    <tr>\n",
              "      <th>Piauí</th>\n",
              "      <td>3281480</td>\n",
              "      <td>15.38</td>\n",
              "      <td>18.02</td>\n",
              "    </tr>\n",
              "    <tr>\n",
              "      <th>Distrito Federal</th>\n",
              "      <td>3055149</td>\n",
              "      <td>23.48</td>\n",
              "      <td>22.23</td>\n",
              "    </tr>\n",
              "    <tr>\n",
              "      <th>Mato Grosso do Sul</th>\n",
              "      <td>2809394</td>\n",
              "      <td>15.84</td>\n",
              "      <td>12.51</td>\n",
              "    </tr>\n",
              "    <tr>\n",
              "      <th>Sergipe</th>\n",
              "      <td>2318822</td>\n",
              "      <td>6.71</td>\n",
              "      <td>3.31</td>\n",
              "    </tr>\n",
              "    <tr>\n",
              "      <th>Rondônia</th>\n",
              "      <td>1796460</td>\n",
              "      <td>9.19</td>\n",
              "      <td>7.41</td>\n",
              "    </tr>\n",
              "    <tr>\n",
              "      <th>Tocantins</th>\n",
              "      <td>1590248</td>\n",
              "      <td>5.02</td>\n",
              "      <td>4.49</td>\n",
              "    </tr>\n",
              "    <tr>\n",
              "      <th>Acre</th>\n",
              "      <td>894470</td>\n",
              "      <td>2.20</td>\n",
              "      <td>1.16</td>\n",
              "    </tr>\n",
              "    <tr>\n",
              "      <th>Amapá</th>\n",
              "      <td>861773</td>\n",
              "      <td>2.70</td>\n",
              "      <td>2.16</td>\n",
              "    </tr>\n",
              "    <tr>\n",
              "      <th>Roraima</th>\n",
              "      <td>631181</td>\n",
              "      <td>3.22</td>\n",
              "      <td>2.74</td>\n",
              "    </tr>\n",
              "  </tbody>\n",
              "</table>\n",
              "</div>"
            ],
            "text/plain": [
              "                     populacao  2020/Jun  2020/Jul\n",
              "UF                                                \n",
              "São Paulo             46289333    299.06    282.71\n",
              "Minas Gerais          21292666    135.98    120.47\n",
              "Rio de Janeiro        17366189     77.60     71.54\n",
              "Bahia                 14930634     65.16     58.90\n",
              "Paraná                11516840     92.90     80.32\n",
              "Rio Grande do Sul     11422973     89.02     78.93\n",
              "Pernambuco             9616621     68.15     62.33\n",
              "Ceará                  9187103     42.15     30.81\n",
              "Pará                   8690745     35.40     27.62\n",
              "Santa Catarina         7252502     56.50     51.76\n",
              "Maranhão               7114598     31.13     24.37\n",
              "Goiás                  7113540     34.44     33.50\n",
              "Amazonas               4207714     17.51     13.36\n",
              "Espírito Santo         4064052     27.45     27.46\n",
              "Paraíba                4039277     19.67     15.49\n",
              "Rio Grande do Norte    3534165     20.22     19.59\n",
              "Mato Grosso            3526220     14.59     13.08\n",
              "Alagoas                3351543     14.28     13.09\n",
              "Piauí                  3281480     15.38     18.02\n",
              "Distrito Federal       3055149     23.48     22.23\n",
              "Mato Grosso do Sul     2809394     15.84     12.51\n",
              "Sergipe                2318822      6.71      3.31\n",
              "Rondônia               1796460      9.19      7.41\n",
              "Tocantins              1590248      5.02      4.49\n",
              "Acre                    894470      2.20      1.16\n",
              "Amapá                   861773      2.70      2.16\n",
              "Roraima                 631181      3.22      2.74"
            ]
          },
          "metadata": {
            "tags": []
          },
          "execution_count": 104
        }
      ]
    },
    {
      "cell_type": "code",
      "metadata": {
        "colab": {
          "base_uri": "https://localhost:8080/"
        },
        "id": "QLV2p2UcDjtd",
        "outputId": "5279defa-aadd-41fe-b3bb-20665885a217"
      },
      "source": [
        "for coluna in gastos_e_populacao_semestre.columns[1:]:\n",
        "  gastos_e_populacao_semestre[f\"gastos_\" + coluna.replace(\n",
        "      \"/\",\"_\")] = gastos_e_populacao_semestre[coluna]*1000000\n",
        "gastos_e_populacao_semestre"
      ],
      "execution_count": null,
      "outputs": [
        {
          "output_type": "execute_result",
          "data": {
            "text/html": [
              "<div>\n",
              "<style scoped>\n",
              "    .dataframe tbody tr th:only-of-type {\n",
              "        vertical-align: middle;\n",
              "    }\n",
              "\n",
              "    .dataframe tbody tr th {\n",
              "        vertical-align: top;\n",
              "    }\n",
              "\n",
              "    .dataframe thead th {\n",
              "        text-align: right;\n",
              "    }\n",
              "</style>\n",
              "<table border=\"1\" class=\"dataframe\">\n",
              "  <thead>\n",
              "    <tr style=\"text-align: right;\">\n",
              "      <th></th>\n",
              "      <th>populacao</th>\n",
              "      <th>2020/Jun</th>\n",
              "      <th>2020/Jul</th>\n",
              "      <th>gastos_2020_Jun</th>\n",
              "      <th>gastos_2020_Jul</th>\n",
              "    </tr>\n",
              "    <tr>\n",
              "      <th>UF</th>\n",
              "      <th></th>\n",
              "      <th></th>\n",
              "      <th></th>\n",
              "      <th></th>\n",
              "      <th></th>\n",
              "    </tr>\n",
              "  </thead>\n",
              "  <tbody>\n",
              "    <tr>\n",
              "      <th>São Paulo</th>\n",
              "      <td>46289333</td>\n",
              "      <td>299.06</td>\n",
              "      <td>282.71</td>\n",
              "      <td>299060851.62</td>\n",
              "      <td>282709570.31</td>\n",
              "    </tr>\n",
              "    <tr>\n",
              "      <th>Minas Gerais</th>\n",
              "      <td>21292666</td>\n",
              "      <td>135.98</td>\n",
              "      <td>120.47</td>\n",
              "      <td>135977571.87</td>\n",
              "      <td>120467187.34</td>\n",
              "    </tr>\n",
              "    <tr>\n",
              "      <th>Rio de Janeiro</th>\n",
              "      <td>17366189</td>\n",
              "      <td>77.60</td>\n",
              "      <td>71.54</td>\n",
              "      <td>77604925.21</td>\n",
              "      <td>71540227.33</td>\n",
              "    </tr>\n",
              "    <tr>\n",
              "      <th>Bahia</th>\n",
              "      <td>14930634</td>\n",
              "      <td>65.16</td>\n",
              "      <td>58.90</td>\n",
              "      <td>65159300.63</td>\n",
              "      <td>58898100.40</td>\n",
              "    </tr>\n",
              "    <tr>\n",
              "      <th>Paraná</th>\n",
              "      <td>11516840</td>\n",
              "      <td>92.90</td>\n",
              "      <td>80.32</td>\n",
              "      <td>92901461.36</td>\n",
              "      <td>80320852.69</td>\n",
              "    </tr>\n",
              "    <tr>\n",
              "      <th>Rio Grande do Sul</th>\n",
              "      <td>11422973</td>\n",
              "      <td>89.02</td>\n",
              "      <td>78.93</td>\n",
              "      <td>89019478.82</td>\n",
              "      <td>78929703.81</td>\n",
              "    </tr>\n",
              "    <tr>\n",
              "      <th>Pernambuco</th>\n",
              "      <td>9616621</td>\n",
              "      <td>68.15</td>\n",
              "      <td>62.33</td>\n",
              "      <td>68145110.59</td>\n",
              "      <td>62325444.34</td>\n",
              "    </tr>\n",
              "    <tr>\n",
              "      <th>Ceará</th>\n",
              "      <td>9187103</td>\n",
              "      <td>42.15</td>\n",
              "      <td>30.81</td>\n",
              "      <td>42146555.81</td>\n",
              "      <td>30809221.22</td>\n",
              "    </tr>\n",
              "    <tr>\n",
              "      <th>Pará</th>\n",
              "      <td>8690745</td>\n",
              "      <td>35.40</td>\n",
              "      <td>27.62</td>\n",
              "      <td>35396030.78</td>\n",
              "      <td>27618727.51</td>\n",
              "    </tr>\n",
              "    <tr>\n",
              "      <th>Santa Catarina</th>\n",
              "      <td>7252502</td>\n",
              "      <td>56.50</td>\n",
              "      <td>51.76</td>\n",
              "      <td>56503747.99</td>\n",
              "      <td>51764534.76</td>\n",
              "    </tr>\n",
              "    <tr>\n",
              "      <th>Maranhão</th>\n",
              "      <td>7114598</td>\n",
              "      <td>31.13</td>\n",
              "      <td>24.37</td>\n",
              "      <td>31128144.66</td>\n",
              "      <td>24374205.15</td>\n",
              "    </tr>\n",
              "    <tr>\n",
              "      <th>Goiás</th>\n",
              "      <td>7113540</td>\n",
              "      <td>34.44</td>\n",
              "      <td>33.50</td>\n",
              "      <td>34437633.20</td>\n",
              "      <td>33499284.38</td>\n",
              "    </tr>\n",
              "    <tr>\n",
              "      <th>Amazonas</th>\n",
              "      <td>4207714</td>\n",
              "      <td>17.51</td>\n",
              "      <td>13.36</td>\n",
              "      <td>17509334.66</td>\n",
              "      <td>13358514.02</td>\n",
              "    </tr>\n",
              "    <tr>\n",
              "      <th>Espírito Santo</th>\n",
              "      <td>4064052</td>\n",
              "      <td>27.45</td>\n",
              "      <td>27.46</td>\n",
              "      <td>27450865.16</td>\n",
              "      <td>27460475.47</td>\n",
              "    </tr>\n",
              "    <tr>\n",
              "      <th>Paraíba</th>\n",
              "      <td>4039277</td>\n",
              "      <td>19.67</td>\n",
              "      <td>15.49</td>\n",
              "      <td>19666096.87</td>\n",
              "      <td>15491469.06</td>\n",
              "    </tr>\n",
              "    <tr>\n",
              "      <th>Rio Grande do Norte</th>\n",
              "      <td>3534165</td>\n",
              "      <td>20.22</td>\n",
              "      <td>19.59</td>\n",
              "      <td>20219961.81</td>\n",
              "      <td>19593057.45</td>\n",
              "    </tr>\n",
              "    <tr>\n",
              "      <th>Mato Grosso</th>\n",
              "      <td>3526220</td>\n",
              "      <td>14.59</td>\n",
              "      <td>13.08</td>\n",
              "      <td>14585009.42</td>\n",
              "      <td>13083151.70</td>\n",
              "    </tr>\n",
              "    <tr>\n",
              "      <th>Alagoas</th>\n",
              "      <td>3351543</td>\n",
              "      <td>14.28</td>\n",
              "      <td>13.09</td>\n",
              "      <td>14278872.07</td>\n",
              "      <td>13087850.40</td>\n",
              "    </tr>\n",
              "    <tr>\n",
              "      <th>Piauí</th>\n",
              "      <td>3281480</td>\n",
              "      <td>15.38</td>\n",
              "      <td>18.02</td>\n",
              "      <td>15375523.59</td>\n",
              "      <td>18019214.49</td>\n",
              "    </tr>\n",
              "    <tr>\n",
              "      <th>Distrito Federal</th>\n",
              "      <td>3055149</td>\n",
              "      <td>23.48</td>\n",
              "      <td>22.23</td>\n",
              "      <td>23479773.03</td>\n",
              "      <td>22233542.26</td>\n",
              "    </tr>\n",
              "    <tr>\n",
              "      <th>Mato Grosso do Sul</th>\n",
              "      <td>2809394</td>\n",
              "      <td>15.84</td>\n",
              "      <td>12.51</td>\n",
              "      <td>15838659.34</td>\n",
              "      <td>12508717.35</td>\n",
              "    </tr>\n",
              "    <tr>\n",
              "      <th>Sergipe</th>\n",
              "      <td>2318822</td>\n",
              "      <td>6.71</td>\n",
              "      <td>3.31</td>\n",
              "      <td>6705923.03</td>\n",
              "      <td>3312766.32</td>\n",
              "    </tr>\n",
              "    <tr>\n",
              "      <th>Rondônia</th>\n",
              "      <td>1796460</td>\n",
              "      <td>9.19</td>\n",
              "      <td>7.41</td>\n",
              "      <td>9193593.76</td>\n",
              "      <td>7407388.24</td>\n",
              "    </tr>\n",
              "    <tr>\n",
              "      <th>Tocantins</th>\n",
              "      <td>1590248</td>\n",
              "      <td>5.02</td>\n",
              "      <td>4.49</td>\n",
              "      <td>5018138.13</td>\n",
              "      <td>4489665.87</td>\n",
              "    </tr>\n",
              "    <tr>\n",
              "      <th>Acre</th>\n",
              "      <td>894470</td>\n",
              "      <td>2.20</td>\n",
              "      <td>1.16</td>\n",
              "      <td>2199920.70</td>\n",
              "      <td>1163813.08</td>\n",
              "    </tr>\n",
              "    <tr>\n",
              "      <th>Amapá</th>\n",
              "      <td>861773</td>\n",
              "      <td>2.70</td>\n",
              "      <td>2.16</td>\n",
              "      <td>2699492.23</td>\n",
              "      <td>2155083.37</td>\n",
              "    </tr>\n",
              "    <tr>\n",
              "      <th>Roraima</th>\n",
              "      <td>631181</td>\n",
              "      <td>3.22</td>\n",
              "      <td>2.74</td>\n",
              "      <td>3216466.51</td>\n",
              "      <td>2739498.41</td>\n",
              "    </tr>\n",
              "  </tbody>\n",
              "</table>\n",
              "</div>"
            ],
            "text/plain": [
              "                     populacao  2020/Jun  ...  gastos_2020_Jun  gastos_2020_Jul\n",
              "UF                                        ...                                  \n",
              "São Paulo             46289333    299.06  ...     299060851.62     282709570.31\n",
              "Minas Gerais          21292666    135.98  ...     135977571.87     120467187.34\n",
              "Rio de Janeiro        17366189     77.60  ...      77604925.21      71540227.33\n",
              "Bahia                 14930634     65.16  ...      65159300.63      58898100.40\n",
              "Paraná                11516840     92.90  ...      92901461.36      80320852.69\n",
              "Rio Grande do Sul     11422973     89.02  ...      89019478.82      78929703.81\n",
              "Pernambuco             9616621     68.15  ...      68145110.59      62325444.34\n",
              "Ceará                  9187103     42.15  ...      42146555.81      30809221.22\n",
              "Pará                   8690745     35.40  ...      35396030.78      27618727.51\n",
              "Santa Catarina         7252502     56.50  ...      56503747.99      51764534.76\n",
              "Maranhão               7114598     31.13  ...      31128144.66      24374205.15\n",
              "Goiás                  7113540     34.44  ...      34437633.20      33499284.38\n",
              "Amazonas               4207714     17.51  ...      17509334.66      13358514.02\n",
              "Espírito Santo         4064052     27.45  ...      27450865.16      27460475.47\n",
              "Paraíba                4039277     19.67  ...      19666096.87      15491469.06\n",
              "Rio Grande do Norte    3534165     20.22  ...      20219961.81      19593057.45\n",
              "Mato Grosso            3526220     14.59  ...      14585009.42      13083151.70\n",
              "Alagoas                3351543     14.28  ...      14278872.07      13087850.40\n",
              "Piauí                  3281480     15.38  ...      15375523.59      18019214.49\n",
              "Distrito Federal       3055149     23.48  ...      23479773.03      22233542.26\n",
              "Mato Grosso do Sul     2809394     15.84  ...      15838659.34      12508717.35\n",
              "Sergipe                2318822      6.71  ...       6705923.03       3312766.32\n",
              "Rondônia               1796460      9.19  ...       9193593.76       7407388.24\n",
              "Tocantins              1590248      5.02  ...       5018138.13       4489665.87\n",
              "Acre                    894470      2.20  ...       2199920.70       1163813.08\n",
              "Amapá                   861773      2.70  ...       2699492.23       2155083.37\n",
              "Roraima                 631181      3.22  ...       3216466.51       2739498.41\n",
              "\n",
              "[27 rows x 5 columns]"
            ]
          },
          "metadata": {
            "tags": []
          },
          "execution_count": 105
        }
      ]
    },
    {
      "cell_type": "code",
      "metadata": {
        "colab": {
          "base_uri": "https://localhost:8080/"
        },
        "id": "KlA5-I00EH18",
        "outputId": "ff4317dc-7912-4b79-f0a7-0b227d5fc847"
      },
      "source": [
        "for coluna in gastos_e_populacao_semestre.columns[1:3]:\n",
        "  gastos_e_populacao_semestre[f\"valor_habit_\" + coluna.replace(\n",
        "      \"/\",\"_\")] = gastos_e_populacao_semestre[coluna]*1000000/gastos_e_populacao_semestre['populacao']\n",
        "gastos_e_populacao_semestre.head()\n",
        "  #print(coluna)"
      ],
      "execution_count": null,
      "outputs": [
        {
          "output_type": "execute_result",
          "data": {
            "text/html": [
              "<div>\n",
              "<style scoped>\n",
              "    .dataframe tbody tr th:only-of-type {\n",
              "        vertical-align: middle;\n",
              "    }\n",
              "\n",
              "    .dataframe tbody tr th {\n",
              "        vertical-align: top;\n",
              "    }\n",
              "\n",
              "    .dataframe thead th {\n",
              "        text-align: right;\n",
              "    }\n",
              "</style>\n",
              "<table border=\"1\" class=\"dataframe\">\n",
              "  <thead>\n",
              "    <tr style=\"text-align: right;\">\n",
              "      <th></th>\n",
              "      <th>populacao</th>\n",
              "      <th>2020/Jun</th>\n",
              "      <th>2020/Jul</th>\n",
              "      <th>gastos_2020_Jun</th>\n",
              "      <th>gastos_2020_Jul</th>\n",
              "      <th>valor_habit_2020_Jun</th>\n",
              "      <th>valor_habit_2020_Jul</th>\n",
              "    </tr>\n",
              "    <tr>\n",
              "      <th>UF</th>\n",
              "      <th></th>\n",
              "      <th></th>\n",
              "      <th></th>\n",
              "      <th></th>\n",
              "      <th></th>\n",
              "      <th></th>\n",
              "      <th></th>\n",
              "    </tr>\n",
              "  </thead>\n",
              "  <tbody>\n",
              "    <tr>\n",
              "      <th>São Paulo</th>\n",
              "      <td>46289333</td>\n",
              "      <td>299.06</td>\n",
              "      <td>282.71</td>\n",
              "      <td>299060851.62</td>\n",
              "      <td>282709570.31</td>\n",
              "      <td>6.46</td>\n",
              "      <td>6.11</td>\n",
              "    </tr>\n",
              "    <tr>\n",
              "      <th>Minas Gerais</th>\n",
              "      <td>21292666</td>\n",
              "      <td>135.98</td>\n",
              "      <td>120.47</td>\n",
              "      <td>135977571.87</td>\n",
              "      <td>120467187.34</td>\n",
              "      <td>6.39</td>\n",
              "      <td>5.66</td>\n",
              "    </tr>\n",
              "    <tr>\n",
              "      <th>Rio de Janeiro</th>\n",
              "      <td>17366189</td>\n",
              "      <td>77.60</td>\n",
              "      <td>71.54</td>\n",
              "      <td>77604925.21</td>\n",
              "      <td>71540227.33</td>\n",
              "      <td>4.47</td>\n",
              "      <td>4.12</td>\n",
              "    </tr>\n",
              "    <tr>\n",
              "      <th>Bahia</th>\n",
              "      <td>14930634</td>\n",
              "      <td>65.16</td>\n",
              "      <td>58.90</td>\n",
              "      <td>65159300.63</td>\n",
              "      <td>58898100.40</td>\n",
              "      <td>4.36</td>\n",
              "      <td>3.94</td>\n",
              "    </tr>\n",
              "    <tr>\n",
              "      <th>Paraná</th>\n",
              "      <td>11516840</td>\n",
              "      <td>92.90</td>\n",
              "      <td>80.32</td>\n",
              "      <td>92901461.36</td>\n",
              "      <td>80320852.69</td>\n",
              "      <td>8.07</td>\n",
              "      <td>6.97</td>\n",
              "    </tr>\n",
              "  </tbody>\n",
              "</table>\n",
              "</div>"
            ],
            "text/plain": [
              "                populacao  2020/Jun  ...  valor_habit_2020_Jun  valor_habit_2020_Jul\n",
              "UF                                   ...                                            \n",
              "São Paulo        46289333    299.06  ...                  6.46                  6.11\n",
              "Minas Gerais     21292666    135.98  ...                  6.39                  5.66\n",
              "Rio de Janeiro   17366189     77.60  ...                  4.47                  4.12\n",
              "Bahia            14930634     65.16  ...                  4.36                  3.94\n",
              "Paraná           11516840     92.90  ...                  8.07                  6.97\n",
              "\n",
              "[5 rows x 7 columns]"
            ]
          },
          "metadata": {
            "tags": []
          },
          "execution_count": 106
        }
      ]
    },
    {
      "cell_type": "code",
      "metadata": {
        "colab": {
          "base_uri": "https://localhost:8080/"
        },
        "id": "r2fHwug0G3Hj",
        "outputId": "e0652206-6501-4bf7-9f89-4076c5941464"
      },
      "source": [
        "gastos_e_populacao_semestre.columns"
      ],
      "execution_count": null,
      "outputs": [
        {
          "output_type": "execute_result",
          "data": {
            "text/plain": [
              "Index(['populacao', '2020/Jun', '2020/Jul', 'gastos_2020_Jun',\n",
              "       'gastos_2020_Jul', 'valor_habit_2020_Jun', 'valor_habit_2020_Jul'],\n",
              "      dtype='object')"
            ]
          },
          "metadata": {
            "tags": []
          },
          "execution_count": 107
        }
      ]
    },
    {
      "cell_type": "code",
      "metadata": {
        "colab": {
          "base_uri": "https://localhost:8080/"
        },
        "id": "UsBd2dBBAYDR",
        "outputId": "52f61c11-37f7-48d1-de3e-12c1a510f1e0"
      },
      "source": [
        "sns.scatterplot(data=gastos_e_populacao_semestre/1000000, x='populacao', y='gastos_2020_Jun')\n"
      ],
      "execution_count": null,
      "outputs": [
        {
          "output_type": "execute_result",
          "data": {
            "text/plain": [
              "<matplotlib.axes._subplots.AxesSubplot at 0x7f87cd202ed0>"
            ]
          },
          "metadata": {
            "tags": []
          },
          "execution_count": 108
        },
        {
          "output_type": "display_data",
          "data": {
            "image/png": "[encoded data removed]",
            "text/plain": [
              "<Figure size 432x288 with 1 Axes>"
            ]
          },
          "metadata": {
            "tags": [],
            "needs_background": "light"
          }
        }
      ]
    },
    {
      "cell_type": "code",
      "metadata": {
        "colab": {
          "base_uri": "https://localhost:8080/"
        },
        "id": "mrt2hkDlA3kO",
        "outputId": "f8fe03bc-1d7e-4fca-ac64-12d1827a352a"
      },
      "source": [
        "plt.figure(figsize = (7,7))\n",
        "sns.scatterplot(data=gastos_e_populacao_semestre/1000000, x='populacao', y='gastos_2020_Jun')\n"
      ],
      "execution_count": null,
      "outputs": [
        {
          "output_type": "execute_result",
          "data": {
            "text/plain": [
              "<matplotlib.axes._subplots.AxesSubplot at 0x7f87cd1814d0>"
            ]
          },
          "metadata": {
            "tags": []
          },
          "execution_count": 109
        },
        {
          "output_type": "display_data",
          "data": {
            "image/png": "[encoded data removed]",
            "text/plain": [
              "<Figure size 504x504 with 1 Axes>"
            ]
          },
          "metadata": {
            "tags": [],
            "needs_background": "light"
          }
        }
      ]
    },
    {
      "cell_type": "code",
      "metadata": {
        "colab": {
          "base_uri": "https://localhost:8080/"
        },
        "id": "hL0zx_NqHEnA",
        "outputId": "bb4ea39d-f182-427b-dffa-7e8dad5f9908"
      },
      "source": [
        "plt.figure(figsize = (7,7))\n",
        "sns.scatterplot(data=gastos_e_populacao_semestre, x='populacao', y='valor_habit_2020_Jun')"
      ],
      "execution_count": null,
      "outputs": [
        {
          "output_type": "execute_result",
          "data": {
            "text/plain": [
              "<matplotlib.axes._subplots.AxesSubplot at 0x7f87cd181090>"
            ]
          },
          "metadata": {
            "tags": []
          },
          "execution_count": 110
        },
        {
          "output_type": "display_data",
          "data": {
            "image/png": "[encoded data removed]",
            "text/plain": [
              "<Figure size 504x504 with 1 Axes>"
            ]
          },
          "metadata": {
            "tags": [],
            "needs_background": "light"
          }
        }
      ]
    },
    {
      "cell_type": "code",
      "metadata": {
        "colab": {
          "base_uri": "https://localhost:8080/"
        },
        "id": "lCfjO2s5HLBS",
        "outputId": "8d683318-9c78-411c-9c8d-f37603656ec7"
      },
      "source": [
        "fig, axes = plt.subplots(1, 2, figsize=(12, 5))#, sharey=True)\n",
        "fig.suptitle('Valor gasto em relação à população')\n",
        "\n",
        "# \n",
        "sns.scatterplot(ax=axes[0], data=gastos_e_populacao_semestre/1000000, x='populacao', y='gastos_2020_Jun')\n",
        "axes[0].set_title(\"R$ Absoluto Junho\")\n",
        "\n",
        "# \n",
        "sns.scatterplot(ax=axes[1],data=gastos_e_populacao_semestre, x='populacao', y='valor_habit_2020_Jun')\n",
        "axes[1].set_title(\"R$ por habitante Junho\")\n",
        "\n"
      ],
      "execution_count": null,
      "outputs": [
        {
          "output_type": "execute_result",
          "data": {
            "text/plain": [
              "Text(0.5, 1.0, 'R$ por habitante Junho')"
            ]
          },
          "metadata": {
            "tags": []
          },
          "execution_count": 111
        },
        {
          "output_type": "display_data",
          "data": {
            "image/png": "[encoded data removed]",
            "text/plain": [
              "<Figure size 864x360 with 2 Axes>"
            ]
          },
          "metadata": {
            "tags": [],
            "needs_background": "light"
          }
        }
      ]
    },
    {
      "cell_type": "markdown",
      "metadata": {
        "id": "8PibmbId8acv"
      },
      "source": [
        "### Desafio 2.3: Plotar no mesmo gráfico com os dois últimos meses juntos"
      ]
    },
    {
      "cell_type": "code",
      "metadata": {
        "colab": {
          "base_uri": "https://localhost:8080/"
        },
        "id": "cNQaLsWD8Gp6",
        "outputId": "d8b22d2b-ea4d-48e1-beb2-a4d122cd0138"
      },
      "source": [
        "plt.figure(figsize = (7,7))\n",
        "x_pop = gastos_e_populacao_semestre['populacao']/1000000\n",
        "\n",
        "sns.scatterplot(data=gastos_e_populacao_semestre/1000000, x='populacao', \n",
        "                y='gastos_2020_Jun',color='r',label='Valor Total')\n",
        "plt.legend(loc='best', bbox_to_anchor=(0.5, 0., 0.5, 0.15))\n",
        "\n",
        "ax2 = plt.twinx()\n",
        "sns.scatterplot(ax=ax2,data=gastos_e_populacao_semestre, x=x_pop,\n",
        "                y='valor_habit_2020_Jun',color='g',label = 'Valor por Habitante')\n",
        "plt.legend(loc='best', bbox_to_anchor=(0.5, 0., 0.5, 0.1))\n"
      ],
      "execution_count": null,
      "outputs": [
        {
          "output_type": "execute_result",
          "data": {
            "text/plain": [
              "<matplotlib.legend.Legend at 0x7f87cd0c4d50>"
            ]
          },
          "metadata": {
            "tags": []
          },
          "execution_count": 112
        },
        {
          "output_type": "display_data",
          "data": {
            "image/png": "[encoded data removed]",
            "text/plain": [
              "<Figure size 504x504 with 2 Axes>"
            ]
          },
          "metadata": {
            "tags": [],
            "needs_background": "light"
          }
        }
      ]
    },
    {
      "cell_type": "markdown",
      "metadata": {
        "id": "sNF61R0K-vG3"
      },
      "source": [
        "## ---"
      ]
    },
    {
      "cell_type": "code",
      "metadata": {
        "id": "98eK7SHS-vpm"
      },
      "source": [
        "def insere_gastos_e_gasto_habitante(todos_os_gastos: pd.DataFrame, dados: pd.DataFrame, mes: str):\n",
        "  gasto_do_mes = todos_os_gastos[mes]\n",
        "  \n",
        "  dados[f'gastos_{mes}'] = gasto_do_mes*1000000\n",
        "  dados[f'gasto_por_habitante_{mes}'] = dados[f'gastos_{mes}'] / dados['populacao']"
      ],
      "execution_count": null,
      "outputs": []
    },
    {
      "cell_type": "code",
      "metadata": {
        "colab": {
          "base_uri": "https://localhost:8080/",
          "height": 308
        },
        "id": "WAPh-wsnV639",
        "outputId": "082caa5a-686b-49da-aa4a-dafbcede9405"
      },
      "source": [
        "\n",
        "insere_gastos_e_gasto_habitante(ordenados_total, gastos_e_populacao_recente, \"2020/Jul\")\n",
        "gastos_e_populacao_recente[['gastos_2020/Jul','populacao']].plot()"
      ],
      "execution_count": null,
      "outputs": [
        {
          "output_type": "execute_result",
          "data": {
            "text/plain": [
              "<matplotlib.axes._subplots.AxesSubplot at 0x7f87ccf778d0>"
            ]
          },
          "metadata": {
            "tags": []
          },
          "execution_count": 114
        },
        {
          "output_type": "display_data",
          "data": {
            "image/png": "[encoded data removed]",
            "text/plain": [
              "<Figure size 432x288 with 1 Axes>"
            ]
          },
          "metadata": {
            "tags": [],
            "needs_background": "light"
          }
        }
      ]
    },
    {
      "cell_type": "code",
      "metadata": {
        "colab": {
          "base_uri": "https://localhost:8080/",
          "height": 252
        },
        "id": "ddhvTq1QXx3R",
        "outputId": "45aa8bc8-270a-4ad5-dc37-ba7b50508d3c"
      },
      "source": [
        "gastos_e_populacao_recente.head()"
      ],
      "execution_count": null,
      "outputs": [
        {
          "output_type": "execute_result",
          "data": {
            "text/html": [
              "<div>\n",
              "<style scoped>\n",
              "    .dataframe tbody tr th:only-of-type {\n",
              "        vertical-align: middle;\n",
              "    }\n",
              "\n",
              "    .dataframe tbody tr th {\n",
              "        vertical-align: top;\n",
              "    }\n",
              "\n",
              "    .dataframe thead th {\n",
              "        text-align: right;\n",
              "    }\n",
              "</style>\n",
              "<table border=\"1\" class=\"dataframe\">\n",
              "  <thead>\n",
              "    <tr style=\"text-align: right;\">\n",
              "      <th></th>\n",
              "      <th>populacao</th>\n",
              "      <th>2020/Jul</th>\n",
              "      <th>gastos</th>\n",
              "      <th>gasto_por_habitante</th>\n",
              "      <th>gastos_2020/Jul</th>\n",
              "      <th>gasto_por_habitante_2020/Jul</th>\n",
              "    </tr>\n",
              "    <tr>\n",
              "      <th>UF</th>\n",
              "      <th></th>\n",
              "      <th></th>\n",
              "      <th></th>\n",
              "      <th></th>\n",
              "      <th></th>\n",
              "      <th></th>\n",
              "    </tr>\n",
              "  </thead>\n",
              "  <tbody>\n",
              "    <tr>\n",
              "      <th>São Paulo</th>\n",
              "      <td>46289333</td>\n",
              "      <td>282.71</td>\n",
              "      <td>282709570.31</td>\n",
              "      <td>6.11</td>\n",
              "      <td>282709570.31</td>\n",
              "      <td>6.11</td>\n",
              "    </tr>\n",
              "    <tr>\n",
              "      <th>Minas Gerais</th>\n",
              "      <td>21292666</td>\n",
              "      <td>120.47</td>\n",
              "      <td>120467187.34</td>\n",
              "      <td>5.66</td>\n",
              "      <td>120467187.34</td>\n",
              "      <td>5.66</td>\n",
              "    </tr>\n",
              "    <tr>\n",
              "      <th>Rio de Janeiro</th>\n",
              "      <td>17366189</td>\n",
              "      <td>71.54</td>\n",
              "      <td>71540227.33</td>\n",
              "      <td>4.12</td>\n",
              "      <td>71540227.33</td>\n",
              "      <td>4.12</td>\n",
              "    </tr>\n",
              "    <tr>\n",
              "      <th>Bahia</th>\n",
              "      <td>14930634</td>\n",
              "      <td>58.90</td>\n",
              "      <td>58898100.40</td>\n",
              "      <td>3.94</td>\n",
              "      <td>58898100.40</td>\n",
              "      <td>3.94</td>\n",
              "    </tr>\n",
              "    <tr>\n",
              "      <th>Paraná</th>\n",
              "      <td>11516840</td>\n",
              "      <td>80.32</td>\n",
              "      <td>80320852.69</td>\n",
              "      <td>6.97</td>\n",
              "      <td>80320852.69</td>\n",
              "      <td>6.97</td>\n",
              "    </tr>\n",
              "  </tbody>\n",
              "</table>\n",
              "</div>"
            ],
            "text/plain": [
              "                populacao  ...  gasto_por_habitante_2020/Jul\n",
              "UF                         ...                              \n",
              "São Paulo        46289333  ...                          6.11\n",
              "Minas Gerais     21292666  ...                          5.66\n",
              "Rio de Janeiro   17366189  ...                          4.12\n",
              "Bahia            14930634  ...                          3.94\n",
              "Paraná           11516840  ...                          6.97\n",
              "\n",
              "[5 rows x 6 columns]"
            ]
          },
          "metadata": {
            "tags": []
          },
          "execution_count": 115
        }
      ]
    },
    {
      "cell_type": "code",
      "metadata": {
        "colab": {
          "base_uri": "https://localhost:8080/",
          "height": 308
        },
        "id": "YhwG4IeebxQ0",
        "outputId": "bc92d25a-60f7-4533-f37d-3bccefcabad0"
      },
      "source": [
        "\n",
        "insere_gastos_e_gasto_habitante(ordenados_total, gastos_e_populacao_recente, \"2020/Jun\")\n",
        "gastos_e_populacao_recente[['gastos_2020/Jun','populacao']].plot()"
      ],
      "execution_count": null,
      "outputs": [
        {
          "output_type": "execute_result",
          "data": {
            "text/plain": [
              "<matplotlib.axes._subplots.AxesSubplot at 0x7f87ccee7550>"
            ]
          },
          "metadata": {
            "tags": []
          },
          "execution_count": 116
        },
        {
          "output_type": "display_data",
          "data": {
            "image/png": "[encoded data removed]",
            "text/plain": [
              "<Figure size 432x288 with 1 Axes>"
            ]
          },
          "metadata": {
            "tags": [],
            "needs_background": "light"
          }
        }
      ]
    },
    {
      "cell_type": "code",
      "metadata": {
        "colab": {
          "base_uri": "https://localhost:8080/",
          "height": 308
        },
        "id": "Cu0oMXQQWesO",
        "outputId": "d0345d73-448b-41fa-e05f-f73955acad26"
      },
      "source": [
        "insere_gastos_e_gasto_habitante(ordenados_total, gastos_e_populacao_recente, \"2020/Mai\")\n",
        "gastos_e_populacao_recente[['gastos_2020/Mai','populacao']].plot()"
      ],
      "execution_count": null,
      "outputs": [
        {
          "output_type": "execute_result",
          "data": {
            "text/plain": [
              "<matplotlib.axes._subplots.AxesSubplot at 0x7f87cce6d750>"
            ]
          },
          "metadata": {
            "tags": []
          },
          "execution_count": 120
        },
        {
          "output_type": "display_data",
          "data": {
            "image/png": "[encoded data removed]",
            "text/plain": [
              "<Figure size 432x288 with 1 Axes>"
            ]
          },
          "metadata": {
            "tags": [],
            "needs_background": "light"
          }
        }
      ]
    },
    {
      "cell_type": "code",
      "metadata": {
        "colab": {
          "base_uri": "https://localhost:8080/",
          "height": 306
        },
        "id": "_ZJLV19datJt",
        "outputId": "6b4c5d36-1e40-40a0-d059-01b754c011af"
      },
      "source": [
        "gastos_e_populacao_recente.head()\n"
      ],
      "execution_count": null,
      "outputs": [
        {
          "output_type": "execute_result",
          "data": {
            "text/html": [
              "<div>\n",
              "<style scoped>\n",
              "    .dataframe tbody tr th:only-of-type {\n",
              "        vertical-align: middle;\n",
              "    }\n",
              "\n",
              "    .dataframe tbody tr th {\n",
              "        vertical-align: top;\n",
              "    }\n",
              "\n",
              "    .dataframe thead th {\n",
              "        text-align: right;\n",
              "    }\n",
              "</style>\n",
              "<table border=\"1\" class=\"dataframe\">\n",
              "  <thead>\n",
              "    <tr style=\"text-align: right;\">\n",
              "      <th></th>\n",
              "      <th>populacao</th>\n",
              "      <th>2020/Jul</th>\n",
              "      <th>gastos</th>\n",
              "      <th>gasto_por_habitante</th>\n",
              "      <th>gastos_2020/Jul</th>\n",
              "      <th>gasto_por_habitante_2020/Jul</th>\n",
              "      <th>gastos_2020/Jun</th>\n",
              "      <th>gasto_por_habitante_2020/Jun</th>\n",
              "    </tr>\n",
              "    <tr>\n",
              "      <th>UF</th>\n",
              "      <th></th>\n",
              "      <th></th>\n",
              "      <th></th>\n",
              "      <th></th>\n",
              "      <th></th>\n",
              "      <th></th>\n",
              "      <th></th>\n",
              "      <th></th>\n",
              "    </tr>\n",
              "  </thead>\n",
              "  <tbody>\n",
              "    <tr>\n",
              "      <th>São Paulo</th>\n",
              "      <td>46289333</td>\n",
              "      <td>282.71</td>\n",
              "      <td>282709570.31</td>\n",
              "      <td>6.11</td>\n",
              "      <td>282709570.31</td>\n",
              "      <td>6.11</td>\n",
              "      <td>299060851.62</td>\n",
              "      <td>6.46</td>\n",
              "    </tr>\n",
              "    <tr>\n",
              "      <th>Minas Gerais</th>\n",
              "      <td>21292666</td>\n",
              "      <td>120.47</td>\n",
              "      <td>120467187.34</td>\n",
              "      <td>5.66</td>\n",
              "      <td>120467187.34</td>\n",
              "      <td>5.66</td>\n",
              "      <td>135977571.87</td>\n",
              "      <td>6.39</td>\n",
              "    </tr>\n",
              "    <tr>\n",
              "      <th>Rio de Janeiro</th>\n",
              "      <td>17366189</td>\n",
              "      <td>71.54</td>\n",
              "      <td>71540227.33</td>\n",
              "      <td>4.12</td>\n",
              "      <td>71540227.33</td>\n",
              "      <td>4.12</td>\n",
              "      <td>77604925.21</td>\n",
              "      <td>4.47</td>\n",
              "    </tr>\n",
              "    <tr>\n",
              "      <th>Bahia</th>\n",
              "      <td>14930634</td>\n",
              "      <td>58.90</td>\n",
              "      <td>58898100.40</td>\n",
              "      <td>3.94</td>\n",
              "      <td>58898100.40</td>\n",
              "      <td>3.94</td>\n",
              "      <td>65159300.63</td>\n",
              "      <td>4.36</td>\n",
              "    </tr>\n",
              "    <tr>\n",
              "      <th>Paraná</th>\n",
              "      <td>11516840</td>\n",
              "      <td>80.32</td>\n",
              "      <td>80320852.69</td>\n",
              "      <td>6.97</td>\n",
              "      <td>80320852.69</td>\n",
              "      <td>6.97</td>\n",
              "      <td>92901461.36</td>\n",
              "      <td>8.07</td>\n",
              "    </tr>\n",
              "  </tbody>\n",
              "</table>\n",
              "</div>"
            ],
            "text/plain": [
              "                populacao  ...  gasto_por_habitante_2020/Jun\n",
              "UF                         ...                              \n",
              "São Paulo        46289333  ...                          6.46\n",
              "Minas Gerais     21292666  ...                          6.39\n",
              "Rio de Janeiro   17366189  ...                          4.47\n",
              "Bahia            14930634  ...                          4.36\n",
              "Paraná           11516840  ...                          8.07\n",
              "\n",
              "[5 rows x 8 columns]"
            ]
          },
          "metadata": {
            "tags": []
          },
          "execution_count": 118
        }
      ]
    },
    {
      "cell_type": "code",
      "metadata": {
        "colab": {
          "base_uri": "https://localhost:8080/",
          "height": 307
        },
        "id": "Ahs4t85Bf4IG",
        "outputId": "d7e1e76b-f754-48a6-886c-fc9992ab6c35"
      },
      "source": [
        "sns.scatterplot(data=gastos_e_populacao_recente, x='populacao', y='gastos_2020/Jun')\n",
        "sns.scatterplot(data=gastos_e_populacao_recente, x='populacao', y='gastos_2020/Jul')\n",
        "sns.scatterplot(data=gastos_e_populacao_recente, x='populacao', y='gastos_2020/Mai')"
      ],
      "execution_count": null,
      "outputs": [
        {
          "output_type": "execute_result",
          "data": {
            "text/plain": [
              "<matplotlib.axes._subplots.AxesSubplot at 0x7f87ccd17750>"
            ]
          },
          "metadata": {
            "tags": []
          },
          "execution_count": 121
        },
        {
          "output_type": "display_data",
          "data": {
            "image/png": "[encoded data removed]",
            "text/plain": [
              "<Figure size 432x288 with 1 Axes>"
            ]
          },
          "metadata": {
            "tags": [],
            "needs_background": "light"
          }
        }
      ]
    },
    {
      "cell_type": "code",
      "metadata": {
        "id": "FaN5I9NTggYY",
        "colab": {
          "base_uri": "https://localhost:8080/",
          "height": 568
        },
        "outputId": "caae47ce-0cc0-479f-ed91-c76fee79a59d"
      },
      "source": [
        "plt.figure(figsize=(12,9))\n",
        "sns.scatterplot(data=gastos_e_populacao_recente, x='populacao', y='gasto_por_habitante_2020/Jun',hue='UF')\n",
        "sns.scatterplot(data=gastos_e_populacao_recente, x='populacao', y='gasto_por_habitante_2020/Jul',hue='UF')\n",
        "sns.scatterplot(data=gastos_e_populacao_recente, x='populacao', y='gasto_por_habitante_2020/Mai',hue='UF')\n",
        "plt.legend('')\n",
        "plt.legend(gastos_e_populacao_recente.index, loc=(1.01,0))"
      ],
      "execution_count": null,
      "outputs": [
        {
          "output_type": "execute_result",
          "data": {
            "text/plain": [
              "<matplotlib.legend.Legend at 0x7f87c5764650>"
            ]
          },
          "metadata": {
            "tags": []
          },
          "execution_count": 160
        },
        {
          "output_type": "display_data",
          "data": {
            "image/png": "[encoded data removed]",
            "text/plain": [
              "<Figure size 864x648 with 1 Axes>"
            ]
          },
          "metadata": {
            "tags": [],
            "needs_background": "light"
          }
        }
      ]
    },
    {
      "cell_type": "markdown",
      "metadata": {
        "id": "TSg6Jg9ELQVq"
      },
      "source": [
        ""
      ]
    }
  ]
}